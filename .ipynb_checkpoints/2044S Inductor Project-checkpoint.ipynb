{
 "cells": [
  {
   "cell_type": "markdown",
   "metadata": {},
   "source": [
    "# Inductor Project\n",
    "---------------"
   ]
  },
  {
   "cell_type": "markdown",
   "metadata": {},
   "source": [
    "The following method is the theoretical process for determining the unknowns needed to build an\n",
    "inductor.\n",
    "1. Initially a fill factor for the window area above “kfill” must be chosen in the range: 0.01 to\n",
    "0.8. This is the ratio of copper area to the window area.\n",
    "2. The Number of turns can be determined by considering the cross sectional area of the\n",
    "wire and the proportion (kfill) of the window area occupied by copper:\n",
    "𝑁 =\n",
    "𝐴𝑟𝑒𝑎 𝑜𝑓 𝑤𝑖𝑛𝑑𝑜𝑤 ∗ 𝑘𝑓𝑖𝑙𝑙  /\n",
    "𝐶𝑟𝑜𝑠𝑠 𝑠𝑒𝑐𝑡𝑖𝑜𝑛𝑎𝑙 𝐴𝑟𝑒𝑎 𝑜𝑓 𝑡ℎ𝑒 𝑤𝑖𝑟𝑒\n",
    "3. Decide on the operating flux density for your inductor by considering the magnetization\n",
    "curve of the material.\n",
    "4. Determine the airgap length by considering the MMF’s around the loop of your magnetic\n",
    "equivalent circuit.\n",
    "5. Find the total flux in the core by using alternate definitions for flux linkage of the coil:\n",
    "𝜆 = 𝑁∅ = 𝐿𝑖\n",
    "6. From the flux the cross section area of the core can be calculated in order to calculate\n",
    "depth and finally the number of laminations needed:\n",
    "𝐸𝑓𝑓𝑒𝑐𝑡𝑖𝑣𝑒 𝐶𝑟𝑜𝑠𝑠 𝑠𝑒𝑐𝑡𝑖𝑜𝑛𝑎𝑙 𝐴𝑟𝑒𝑎 𝑜𝑓 𝐶𝑜𝑟𝑒 =\n",
    "∅\n",
    "𝐵\n",
    "Note: The area above is the effective area of the ferromagnetic material required. This\n",
    "differs from the actual core area below, by the stacking factor.\n",
    "7. The actual depth of the core can be calculated based on the actual core area and width.\n",
    "8. The number of laminations can now be calculated on the basis of the lamination\n",
    "thickness and actual core depth.\n",
    "𝑁𝑜. 𝐿𝑎𝑚𝑖𝑛𝑎𝑡𝑖𝑜𝑛𝑠 =\n",
    "𝐷𝑒𝑝𝑡ℎ\n",
    "𝑇ℎ𝑖𝑐𝑘𝑛𝑒𝑠𝑠 𝑜𝑓 𝐿𝑎𝑚𝑖𝑛𝑎𝑡𝑖𝑜𝑛𝑠\n",
    "9. There are infinite permutations of the parameters for the design. Please consider the\n",
    "practicality of your design. i.e. 100000 turns or 30 laminations just won’t work! It is\n",
    "recommended to use excel or Matlab to run through several design iterations using the\n",
    "step outlined above."
   ]
  },
  {
   "cell_type": "code",
   "execution_count": 1,
   "metadata": {
    "collapsed": false
   },
   "outputs": [],
   "source": [
    "import numpy as np\n",
    "import pandas as pd\n",
    "import matplotlib.pyplot as plt"
   ]
  },
  {
   "cell_type": "code",
   "execution_count": 2,
   "metadata": {
    "collapsed": false
   },
   "outputs": [],
   "source": [
    "kfill = np.linspace(0.01,0.8,100)\n",
    "area_of_window = (9.5/1000)*(28/1000)\n",
    "area_of_wire = np.pi*(0.45/2000)**2\n",
    "n_turns = np.divide(np.multiply(area_of_window,kfill),area_of_wire)"
   ]
  },
  {
   "cell_type": "code",
   "execution_count": 3,
   "metadata": {
    "collapsed": false
   },
   "outputs": [
    {
     "data": {
      "text/plain": [
       "array([   16.72502316,    30.07125375,    43.41748435,    56.76371495,\n",
       "          70.10994555,    83.45617615,    96.80240675,   110.14863735,\n",
       "         123.49486795,   136.84109855,   150.18732914,   163.53355974,\n",
       "         176.87979034,   190.22602094,   203.57225154,   216.91848214,\n",
       "         230.26471274,   243.61094334,   256.95717394,   270.30340453,\n",
       "         283.64963513,   296.99586573,   310.34209633,   323.68832693,\n",
       "         337.03455753,   350.38078813,   363.72701873,   377.07324932,\n",
       "         390.41947992,   403.76571052,   417.11194112,   430.45817172,\n",
       "         443.80440232,   457.15063292,   470.49686352,   483.84309412,\n",
       "         497.18932471,   510.53555531,   523.88178591,   537.22801651,\n",
       "         550.57424711,   563.92047771,   577.26670831,   590.61293891,\n",
       "         603.95916951,   617.3054001 ,   630.6516307 ,   643.9978613 ,\n",
       "         657.3440919 ,   670.6903225 ,   684.0365531 ,   697.3827837 ,\n",
       "         710.7290143 ,   724.0752449 ,   737.42147549,   750.76770609,\n",
       "         764.11393669,   777.46016729,   790.80639789,   804.15262849,\n",
       "         817.49885909,   830.84508969,   844.19132028,   857.53755088,\n",
       "         870.88378148,   884.23001208,   897.57624268,   910.92247328,\n",
       "         924.26870388,   937.61493448,   950.96116508,   964.30739567,\n",
       "         977.65362627,   990.99985687,  1004.34608747,  1017.69231807,\n",
       "        1031.03854867,  1044.38477927,  1057.73100987,  1071.07724047,\n",
       "        1084.42347106,  1097.76970166,  1111.11593226,  1124.46216286,\n",
       "        1137.80839346,  1151.15462406,  1164.50085466,  1177.84708526,\n",
       "        1191.19331586,  1204.53954645,  1217.88577705,  1231.23200765,\n",
       "        1244.57823825,  1257.92446885,  1271.27069945,  1284.61693005,\n",
       "        1297.96316065,  1311.30939124,  1324.65562184,  1338.00185244])"
      ]
     },
     "execution_count": 3,
     "metadata": {},
     "output_type": "execute_result"
    }
   ],
   "source": [
    "n_turns"
   ]
  },
  {
   "cell_type": "code",
   "execution_count": 4,
   "metadata": {
    "collapsed": false
   },
   "outputs": [],
   "source": [
    "bh_curve = pd.read_csv(\"bhcurve.csv\")"
   ]
  },
  {
   "cell_type": "code",
   "execution_count": 6,
   "metadata": {
    "collapsed": false
   },
   "outputs": [
    {
     "data": {
      "image/png": "[encoded data removed]",
      "text/plain": [
       "<matplotlib.figure.Figure at 0x130a73c4ef0>"
      ]
     },
     "metadata": {},
     "output_type": "display_data"
    },
    {
     "data": {
      "image/png": "[encoded data removed]",
      "text/plain": [
       "<matplotlib.figure.Figure at 0x130a78f6438>"
      ]
     },
     "metadata": {},
     "output_type": "display_data"
    }
   ],
   "source": [
    "b_values = bh_curve['B'].values[0:50]\n",
    "h_values = bh_curve['H'].values[0:50]\n",
    "fig = plt.figure()\n",
    "ax = fig.add_subplot(111)\n",
    "#ax.set_xscale('log')\n",
    "ax.plot(h_values,b_values)\n",
    "plt.show()"
   ]
  },
  {
   "cell_type": "code",
   "execution_count": 25,
   "metadata": {
    "collapsed": false
   },
   "outputs": [],
   "source": [
    "#choosing B to be 0.7 because the response is linear around it\n",
    "b = 0.76\n",
    "h = 110\n",
    "mew = np.divide(b,h)"
   ]
  },
  {
   "cell_type": "code",
   "execution_count": 26,
   "metadata": {
    "collapsed": false
   },
   "outputs": [],
   "source": [
    "i = 1\n",
    "mmf = np.multiply(n_turns,i)"
   ]
  },
  {
   "cell_type": "code",
   "execution_count": 27,
   "metadata": {
    "collapsed": false
   },
   "outputs": [
    {
     "data": {
      "text/plain": [
       "array([  3.55084558e-06,   1.45846403e-05,   2.56184351e-05,\n",
       "         3.66522298e-05,   4.76860245e-05,   5.87198193e-05,\n",
       "         6.97536140e-05,   8.07874087e-05,   9.18212035e-05,\n",
       "         1.02854998e-04,   1.13888793e-04,   1.24922588e-04,\n",
       "         1.35956382e-04,   1.46990177e-04,   1.58023972e-04,\n",
       "         1.69057767e-04,   1.80091561e-04,   1.91125356e-04,\n",
       "         2.02159151e-04,   2.13192946e-04,   2.24226740e-04,\n",
       "         2.35260535e-04,   2.46294330e-04,   2.57328125e-04,\n",
       "         2.68361919e-04,   2.79395714e-04,   2.90429509e-04,\n",
       "         3.01463303e-04,   3.12497098e-04,   3.23530893e-04,\n",
       "         3.34564688e-04,   3.45598482e-04,   3.56632277e-04,\n",
       "         3.67666072e-04,   3.78699867e-04,   3.89733661e-04,\n",
       "         4.00767456e-04,   4.11801251e-04,   4.22835046e-04,\n",
       "         4.33868840e-04,   4.44902635e-04,   4.55936430e-04,\n",
       "         4.66970225e-04,   4.78004019e-04,   4.89037814e-04,\n",
       "         5.00071609e-04,   5.11105404e-04,   5.22139198e-04,\n",
       "         5.33172993e-04,   5.44206788e-04,   5.55240582e-04,\n",
       "         5.66274377e-04,   5.77308172e-04,   5.88341967e-04,\n",
       "         5.99375761e-04,   6.10409556e-04,   6.21443351e-04,\n",
       "         6.32477146e-04,   6.43510940e-04,   6.54544735e-04,\n",
       "         6.65578530e-04,   6.76612325e-04,   6.87646119e-04,\n",
       "         6.98679914e-04,   7.09713709e-04,   7.20747504e-04,\n",
       "         7.31781298e-04,   7.42815093e-04,   7.53848888e-04,\n",
       "         7.64882682e-04,   7.75916477e-04,   7.86950272e-04,\n",
       "         7.97984067e-04,   8.09017861e-04,   8.20051656e-04,\n",
       "         8.31085451e-04,   8.42119246e-04,   8.53153040e-04,\n",
       "         8.64186835e-04,   8.75220630e-04,   8.86254425e-04,\n",
       "         8.97288219e-04,   9.08322014e-04,   9.19355809e-04,\n",
       "         9.30389604e-04,   9.41423398e-04,   9.52457193e-04,\n",
       "         9.63490988e-04,   9.74524782e-04,   9.85558577e-04,\n",
       "         9.96592372e-04,   1.00762617e-03,   1.01865996e-03,\n",
       "         1.02969376e-03,   1.04072755e-03,   1.05176135e-03,\n",
       "         1.06279514e-03,   1.07382894e-03,   1.08486273e-03,\n",
       "         1.09589652e-03])"
      ]
     },
     "execution_count": 27,
     "metadata": {},
     "output_type": "execute_result"
    }
   ],
   "source": [
    "len_of_core = 113/1000\n",
    "l_gap = []\n",
    "\n",
    "u0 = 4*np.pi*(10**(-7))\n",
    "r1 = u0*len_of_core/(2*mew) #lc*u0/uc\n",
    "t = np.divide(u0*i,2*b) #u0*i/b\n",
    "r2 = np.multiply(t,n_turns) #u0*N*I/b\n",
    "\n",
    "l_gap = np.subtract(r2,r1)\n",
    "    \n",
    "l_gap"
   ]
  },
  {
   "cell_type": "code",
   "execution_count": 28,
   "metadata": {
    "collapsed": false
   },
   "outputs": [],
   "source": [
    "inductance = 5.5/(50*2*np.pi)\n",
    "flux = np.divide(inductance*1,n_turns)\n",
    "eff_x_area_core = np.divide(flux,b)\n",
    "x_area_core = np.divide(flux,0.97)"
   ]
  },
  {
   "cell_type": "code",
   "execution_count": 29,
   "metadata": {
    "collapsed": true
   },
   "outputs": [],
   "source": [
    "depths = np.divide(x_area_core,9.5/1000)"
   ]
  },
  {
   "cell_type": "code",
   "execution_count": 30,
   "metadata": {
    "collapsed": false
   },
   "outputs": [
    {
     "data": {
      "text/plain": [
       "array([ 227.18557109,  126.35601988,   87.51506435,   66.93860577,\n",
       "         54.19607599,   45.52909218,   39.25195731,   34.49596862,\n",
       "         30.76795012,   27.76712536,   25.29963053,   23.23488795,\n",
       "         21.48173022,   19.97457508,   18.66503862,   17.5166445 ,\n",
       "         16.5013731 ,   15.59734503,   14.78722652,   14.05710721,\n",
       "         13.39569478,   12.7937267 ,   12.24353377,   11.73871166,\n",
       "         11.27387045,   10.84444144,   10.44652649,   10.07677936,\n",
       "          9.73231135,    9.41061571,    9.1095065 ,    8.82706889,\n",
       "          8.5616184 ,    8.31166723,    8.07589642,    7.85313252,\n",
       "          7.64232808,    7.44254518,    7.25294148,    7.07275835,\n",
       "          6.90131069,    6.73797829,    6.58219828,    6.43345868,\n",
       "          6.29129274,    6.15527409,    6.02501247,    5.90014993,\n",
       "          5.78035763,    5.66533288,    5.55479663,    5.44849117,\n",
       "          5.34617816,    5.24763685,    5.15266244,    5.0610647 ,\n",
       "          4.97266671,    4.88730368,    4.80482195,    4.72507805,\n",
       "          4.64793791,    4.57327603,    4.50097489,    4.43092426,\n",
       "          4.36302067,    4.2971669 ,    4.23327151,    4.17124843,\n",
       "          4.11101655,    4.05249938,    3.99562472,    3.94032438,\n",
       "          3.88653388,    3.83419222,    3.78324164,    3.73362741,\n",
       "          3.68529765,    3.6382031 ,    3.592297  ,    3.54753494,\n",
       "          3.50387467,    3.46127601,    3.41970071,    3.37911231,\n",
       "          3.3394761 ,    3.30075896,    3.26292928,    3.2259569 ,\n",
       "          3.18981301,    3.15447006,    3.11990173,    3.08608281,\n",
       "          3.05298921,    3.02059784,    2.98888658,    2.95783424,\n",
       "          2.92742048,    2.89762581,    2.86843152,    2.83981964])"
      ]
     },
     "execution_count": 30,
     "metadata": {},
     "output_type": "execute_result"
    }
   ],
   "source": [
    "num_lamin = np.divide(depths,0.5/1000)\n",
    "num_lamin"
   ]
  },
  {
   "cell_type": "code",
   "execution_count": 31,
   "metadata": {
    "collapsed": false
   },
   "outputs": [
    {
     "data": {
      "image/png": "[encoded data removed]",
      "text/plain": [
       "<matplotlib.figure.Figure at 0x130a89e1860>"
      ]
     },
     "metadata": {},
     "output_type": "display_data"
    }
   ],
   "source": [
    "plt.plot(num_lamin,n_turns)\n",
    "plt.show()"
   ]
  },
  {
   "cell_type": "code",
   "execution_count": 32,
   "metadata": {
    "collapsed": false
   },
   "outputs": [
    {
     "name": "stdout",
     "output_type": "stream",
     "text": [
      "Turns: 216.918482138 ; Laminations: 17.5166444999 ; Gap Length: 0.000169057766639\n"
     ]
    }
   ],
   "source": [
    "result = num_lamin[0]*n_turns[0]\n",
    "for x in range(len(num_lamin)):\n",
    "    nxt = num_lamin[i]*n_turns[i]\n",
    "    if nxt < result:\n",
    "        result = nxt\n",
    "        print(x)\n",
    "        \n",
    "resultindex = 15\n",
    "        \n",
    "print(\"Turns:\",n_turns[resultindex],\"; Laminations:\",num_lamin[resultindex],\"; Gap Length:\",l_gap[resultindex])\n",
    "\n",
    "# print(\"Optimal result of turns (maybe)=\", n_turns, \"with gap length =\")\n",
    "# result"
   ]
  },
  {
   "cell_type": "code",
   "execution_count": null,
   "metadata": {
    "collapsed": true
   },
   "outputs": [],
   "source": []
  },
  {
   "cell_type": "code",
   "execution_count": null,
   "metadata": {
    "collapsed": false
   },
   "outputs": [],
   "source": [
    "results = []\n",
    "for i in range(len(num_lamin)):\n",
    "    print(\"min(lamin) =\",min(num_lamin[i]),\"; turns = \",n_turns[i])\n",
    "    results.append((min(num_lamin[i]))*(n_turns[i]))\n",
    "\n",
    "test = results.index(min(results))\n",
    "print(\"Optimal result of turns (maybe)=\", n_turns[test], \"with gap length =\") #min(np.abs(l_gap[test])),\"B =\",\n",
    "      #b_values[l_gap[test].tolist().index(min(np.abs(l_gap[test])))])"
   ]
  },
  {
   "cell_type": "markdown",
   "metadata": {},
   "source": [
    "### When I didn't know what I was doing..."
   ]
  },
  {
   "cell_type": "code",
   "execution_count": null,
   "metadata": {
    "collapsed": false
   },
   "outputs": [],
   "source": [
    "len_of_core = 122.5/1000\n",
    "depth = np.divide(np.linspace(0.5,50,100),1000) #0.5mm ->5cm\n",
    "x_area_core = np.multiply((9.5/1000),depth)\n",
    "#x_area_core = (9.5/1000)*(20/1000) #np.multiply((9.5/1000),depth)\n",
    "len(x_area_core)"
   ]
  },
  {
   "cell_type": "code",
   "execution_count": null,
   "metadata": {
    "collapsed": false
   },
   "outputs": [],
   "source": [
    "flux = []\n",
    "for x_area in x_area_core:\n",
    "    flux.append(np.multiply(b_values,x_area))\n",
    "# flux = np.multiply(b_values,x_area_core)\n",
    "#len(mmf) = 100\n",
    "#len(flux) = 100\n",
    "# flux = 2D array 100,61\n",
    "len(flux)\n",
    "\n",
    "\n",
    "# The 2D flux array has all the flux values for a different \n",
    "# cross sectional area at each element. Each element of these arrays \n",
    "# is then divided from each mmf to find the total reluctance for \n",
    "# each cross sectional area for all possible values along the b-h curve.\n",
    "# This reslts in a 3D array holding values for every area, every b values\n",
    "# and every mmf.\n",
    "\n",
    "i = 0\n",
    "j = 0\n",
    "total_r = [[] for i in range(len(x_area_core))]\n",
    "for an_area in flux:\n",
    "    #total_r[j].append([])\n",
    "    for a_flux in an_area:\n",
    "        #print(\"i:\",i,\"j\",j)\n",
    "        #print(\"total_r[j]:\",len(total_r[j]),\"total_r:\",len(total_r))\n",
    "        total_r[j].append(np.divide(mmf,a_flux)) #using one flux val for now     flux[j][i]\n",
    "        i+=1\n",
    "    j+=1\n",
    "    i=0"
   ]
  },
  {
   "cell_type": "code",
   "execution_count": null,
   "metadata": {
    "collapsed": false
   },
   "outputs": [],
   "source": [
    "print(\"total_r[j]:\",len(total_r[0]),\"total_r:\",len(total_r),\"el:\",len(total_r[0][1]))\n",
    "#print(total_r[0:10][0:3][:])"
   ]
  },
  {
   "cell_type": "code",
   "execution_count": null,
   "metadata": {
    "collapsed": false
   },
   "outputs": [],
   "source": [
    "r_gap =[[] for i in range(len(x_area_core))]\n",
    "\n",
    "i = 0\n",
    "j = 0\n",
    "for an_area in flux:\n",
    "    for a_flux in an_area:\n",
    "        r_gap[j].append(np.subtract(total_r[i][j],(len_of_core)/(mew[i]*x_area_core[j])))\n",
    "        i+=1\n",
    "    j+=1\n",
    "    \n",
    "#l_gap = r_gap*4*np.pi*10e-7*x_area_core\n",
    "# l_gap"
   ]
  }
 ],
 "metadata": {
  "anaconda-cloud": {},
  "kernelspec": {
   "display_name": "Python [conda root]",
   "language": "python",
   "name": "conda-root-py"
  },
  "language_info": {
   "codemirror_mode": {
    "name": "ipython",
    "version": 3
   },
   "file_extension": ".py",
   "mimetype": "text/x-python",
   "name": "python",
   "nbconvert_exporter": "python",
   "pygments_lexer": "ipython3",
   "version": "3.5.2"
  }
 },
 "nbformat": 4,
 "nbformat_minor": 2
}
