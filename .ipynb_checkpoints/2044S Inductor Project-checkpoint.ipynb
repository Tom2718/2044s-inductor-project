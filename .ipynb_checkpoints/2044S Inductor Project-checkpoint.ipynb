{
 "cells": [
  {
   "cell_type": "markdown",
   "metadata": {},
   "source": [
    "# Inductor Shit\n",
    "---------------"
   ]
  },
  {
   "cell_type": "markdown",
   "metadata": {},
   "source": [
    "The following method is the theoretical process for determining the unknowns needed to build an\n",
    "inductor.\n",
    "1. Initially a fill factor for the window area above “kfill” must be chosen in the range: 0.01 to\n",
    "0.8. This is the ratio of copper area to the window area.\n",
    "2. The Number of turns can be determined by considering the cross sectional area of the\n",
    "wire and the proportion (kfill) of the window area occupied by copper:\n",
    "𝑁 =\n",
    "𝐴𝑟𝑒𝑎 𝑜𝑓 𝑤𝑖𝑛𝑑𝑜𝑤 ∗ 𝑘𝑓𝑖𝑙𝑙  /\n",
    "𝐶𝑟𝑜𝑠𝑠 𝑠𝑒𝑐𝑡𝑖𝑜𝑛𝑎𝑙 𝐴𝑟𝑒𝑎 𝑜𝑓 𝑡ℎ𝑒 𝑤𝑖𝑟𝑒\n",
    "3. Decide on the operating flux density for your inductor by considering the magnetization\n",
    "curve of the material.\n",
    "4. Determine the airgap length by considering the MMF’s around the loop of your magnetic\n",
    "equivalent circuit.\n",
    "5. Find the total flux in the core by using alternate definitions for flux linkage of the coil:\n",
    "𝜆 = 𝑁∅ = 𝐿𝑖\n",
    "6. From the flux the cross section area of the core can be calculated in order to calculate\n",
    "depth and finally the number of laminations needed:\n",
    "𝐸𝑓𝑓𝑒𝑐𝑡𝑖𝑣𝑒 𝐶𝑟𝑜𝑠𝑠 𝑠𝑒𝑐𝑡𝑖𝑜𝑛𝑎𝑙 𝐴𝑟𝑒𝑎 𝑜𝑓 𝐶𝑜𝑟𝑒 =\n",
    "∅\n",
    "𝐵\n",
    "Note: The area above is the effective area of the ferromagnetic material required. This\n",
    "differs from the actual core area below, by the stacking factor.\n",
    "7. The actual depth of the core can be calculated based on the actual core area and width.\n",
    "8. The number of laminations can now be calculated on the basis of the lamination\n",
    "thickness and actual core depth.\n",
    "𝑁𝑜. 𝐿𝑎𝑚𝑖𝑛𝑎𝑡𝑖𝑜𝑛𝑠 =\n",
    "𝐷𝑒𝑝𝑡ℎ\n",
    "𝑇ℎ𝑖𝑐𝑘𝑛𝑒𝑠𝑠 𝑜𝑓 𝐿𝑎𝑚𝑖𝑛𝑎𝑡𝑖𝑜𝑛𝑠\n",
    "9. There are infinite permutations of the parameters for the design. Please consider the\n",
    "practicality of your design. i.e. 100000 turns or 30 laminations just won’t work! It is\n",
    "recommended to use excel or Matlab to run through several design iterations using the\n",
    "step outlined above."
   ]
  },
  {
   "cell_type": "code",
   "execution_count": 2,
   "metadata": {
    "collapsed": true
   },
   "outputs": [],
   "source": [
    "import numpy as np\n",
    "import pandas as pd"
   ]
  },
  {
   "cell_type": "code",
   "execution_count": 3,
   "metadata": {
    "collapsed": false
   },
   "outputs": [],
   "source": [
    "kfill = np.linspace(0.01,0.8,100)\n",
    "area_of_window = (9.5/1000)*(28/1000)\n",
    "area_of_wire = np.pi*(0.45/2000)**2\n",
    "n_turns = np.divide(np.multiply(area_of_window,kfill),area_of_wire)"
   ]
  },
  {
   "cell_type": "code",
   "execution_count": 4,
   "metadata": {
    "collapsed": false
   },
   "outputs": [
    {
     "data": {
      "text/plain": [
       "array([   16.72502316,    30.07125375,    43.41748435,    56.76371495,\n",
       "          70.10994555,    83.45617615,    96.80240675,   110.14863735,\n",
       "         123.49486795,   136.84109855,   150.18732914,   163.53355974,\n",
       "         176.87979034,   190.22602094,   203.57225154,   216.91848214,\n",
       "         230.26471274,   243.61094334,   256.95717394,   270.30340453,\n",
       "         283.64963513,   296.99586573,   310.34209633,   323.68832693,\n",
       "         337.03455753,   350.38078813,   363.72701873,   377.07324932,\n",
       "         390.41947992,   403.76571052,   417.11194112,   430.45817172,\n",
       "         443.80440232,   457.15063292,   470.49686352,   483.84309412,\n",
       "         497.18932471,   510.53555531,   523.88178591,   537.22801651,\n",
       "         550.57424711,   563.92047771,   577.26670831,   590.61293891,\n",
       "         603.95916951,   617.3054001 ,   630.6516307 ,   643.9978613 ,\n",
       "         657.3440919 ,   670.6903225 ,   684.0365531 ,   697.3827837 ,\n",
       "         710.7290143 ,   724.0752449 ,   737.42147549,   750.76770609,\n",
       "         764.11393669,   777.46016729,   790.80639789,   804.15262849,\n",
       "         817.49885909,   830.84508969,   844.19132028,   857.53755088,\n",
       "         870.88378148,   884.23001208,   897.57624268,   910.92247328,\n",
       "         924.26870388,   937.61493448,   950.96116508,   964.30739567,\n",
       "         977.65362627,   990.99985687,  1004.34608747,  1017.69231807,\n",
       "        1031.03854867,  1044.38477927,  1057.73100987,  1071.07724047,\n",
       "        1084.42347106,  1097.76970166,  1111.11593226,  1124.46216286,\n",
       "        1137.80839346,  1151.15462406,  1164.50085466,  1177.84708526,\n",
       "        1191.19331586,  1204.53954645,  1217.88577705,  1231.23200765,\n",
       "        1244.57823825,  1257.92446885,  1271.27069945,  1284.61693005,\n",
       "        1297.96316065,  1311.30939124,  1324.65562184,  1338.00185244])"
      ]
     },
     "execution_count": 4,
     "metadata": {},
     "output_type": "execute_result"
    }
   ],
   "source": [
    "n_turns"
   ]
  },
  {
   "cell_type": "code",
   "execution_count": 5,
   "metadata": {
    "collapsed": false
   },
   "outputs": [
    {
     "name": "stderr",
     "output_type": "stream",
     "text": [
      "C:\\Users\\Tom\\Anaconda3\\lib\\site-packages\\ipykernel\\__main__.py:1: DeprecationWarning: object of type <class 'float'> cannot be safely interpreted as an integer.\n",
      "  if __name__ == '__main__':\n"
     ]
    }
   ],
   "source": [
    "flux_density = np.linspace(0.02,1.0,0.02)\n",
    "bh_curve = pd.read_csv(\"bhcurve.csv\")"
   ]
  },
  {
   "cell_type": "code",
   "execution_count": 6,
   "metadata": {
    "collapsed": false
   },
   "outputs": [],
   "source": [
    "b_values = bh_curve['B'].values\n",
    "h_values = bh_curve['H'].values"
   ]
  },
  {
   "cell_type": "code",
   "execution_count": 7,
   "metadata": {
    "collapsed": false
   },
   "outputs": [],
   "source": [
    "mew = np.divide(b_values,h_values)"
   ]
  },
  {
   "cell_type": "code",
   "execution_count": 8,
   "metadata": {
    "collapsed": false
   },
   "outputs": [],
   "source": [
    "i = 1\n",
    "mmf = np.multiply(n_turns,i)"
   ]
  },
  {
   "cell_type": "code",
   "execution_count": 64,
   "metadata": {
    "collapsed": false
   },
   "outputs": [],
   "source": [
    "l_gap = []\n",
    "for n in n_turns:\n",
    "    l_gap.append(np.multiply(np.divide(4*np.pi*10e-7*1,b_values),n))"
   ]
  },
  {
   "cell_type": "code",
   "execution_count": 71,
   "metadata": {
    "collapsed": false
   },
   "outputs": [
    {
     "name": "stdout",
     "output_type": "stream",
     "text": [
      "100\n"
     ]
    }
   ],
   "source": [
    "inductance = 5.5/(60*2*np.pi)\n",
    "flux = np.divide(inductance*1,n_turns)\n",
    "print(len(flux))\n",
    "eff_x_area_core = []\n",
    "for f in flux:\n",
    "    eff_x_area_core.append(np.divide(f,b_values))"
   ]
  },
  {
   "cell_type": "code",
   "execution_count": 73,
   "metadata": {
    "collapsed": true
   },
   "outputs": [],
   "source": [
    "depth = []\n",
    "for area in eff_x_area_core:\n",
    "    depth.append(np.divide(area,9.5/1000))"
   ]
  },
  {
   "cell_type": "code",
   "execution_count": 74,
   "metadata": {
    "collapsed": true
   },
   "outputs": [],
   "source": [
    "num_lamin = []\n",
    "for a_depth in depth:\n",
    "    num_lamin.append(np.divide(a_depth,0.5/1000))"
   ]
  },
  {
   "cell_type": "code",
   "execution_count": 83,
   "metadata": {
    "collapsed": false
   },
   "outputs": [
    {
     "name": "stdout",
     "output_type": "stream",
     "text": [
      "min(lamin) = 87.0339668078 ; turns =  16.7250231555\n",
      "min(lamin) = 48.4065321009 ; turns =  30.0712537544\n",
      "min(lamin) = 33.5267031672 ; turns =  43.4174843533\n",
      "min(lamin) = 25.6439366487 ; turns =  56.7637149521\n",
      "min(lamin) = 20.7623197927 ; turns =  70.109945551\n",
      "min(lamin) = 17.4420297854 ; turns =  83.4561761498\n",
      "min(lamin) = 15.0372822233 ; turns =  96.8024067487\n",
      "min(lamin) = 13.2152802361 ; turns =  110.148637348\n",
      "min(lamin) = 11.787089896 ; turns =  123.494867946\n",
      "min(lamin) = 10.6374848321 ; turns =  136.841098545\n",
      "min(lamin) = 9.69219652865 ; turns =  150.187329144\n",
      "min(lamin) = 8.90120115079 ; turns =  163.533559743\n",
      "min(lamin) = 8.22957279271 ; turns =  176.879790342\n",
      "min(lamin) = 7.65218713496 ; turns =  190.226020941\n",
      "min(lamin) = 7.15050847632 ; turns =  203.57225154\n",
      "min(lamin) = 6.71056286135 ; turns =  216.918482138\n",
      "min(lamin) = 6.32161607775 ; turns =  230.264712737\n",
      "min(lamin) = 5.97528620941 ; turns =  243.610943336\n",
      "min(lamin) = 5.6649327508 ; turns =  256.957173935\n",
      "min(lamin) = 5.38522669623 ; turns =  270.303404534\n",
      "min(lamin) = 5.1318419976 ; turns =  283.649635133\n",
      "min(lamin) = 4.90123021272 ; turns =  296.995865732\n",
      "min(lamin) = 4.69045330102 ; turns =  310.34209633\n",
      "min(lamin) = 4.49705778391 ; turns =  323.688326929\n",
      "min(lamin) = 4.31897880399 ; turns =  337.034557528\n",
      "min(lamin) = 4.15446611088 ; turns =  350.380788127\n",
      "min(lamin) = 4.00202634183 ; turns =  363.727018726\n",
      "min(lamin) = 3.86037756002 ; turns =  377.073249325\n",
      "min(lamin) = 3.72841311725 ; turns =  390.419479924\n",
      "min(lamin) = 3.60517268367 ; turns =  403.765710522\n",
      "min(lamin) = 3.48981883919 ; turns =  417.111941121\n",
      "min(lamin) = 3.38161801961 ; turns =  430.45817172\n",
      "min(lamin) = 3.27992490064 ; turns =  443.804402319\n",
      "min(lamin) = 3.18416951736 ; turns =  457.150632918\n",
      "min(lamin) = 3.09384657593 ; turns =  470.496863517\n",
      "min(lamin) = 3.00850653421 ; turns =  483.843094116\n",
      "min(lamin) = 2.92774811892 ; turns =  497.189324714\n",
      "min(lamin) = 2.85121201653 ; turns =  510.535555313\n",
      "min(lamin) = 2.77857552853 ; turns =  523.881785912\n",
      "min(lamin) = 2.70954802326 ; turns =  537.228016511\n",
      "min(lamin) = 2.64386704939 ; turns =  550.57424711\n",
      "min(lamin) = 2.58129500119 ; turns =  563.920477709\n",
      "min(lamin) = 2.52161624641 ; turns =  577.266708308\n",
      "min(lamin) = 2.46463464358 ; turns =  590.612938907\n",
      "min(lamin) = 2.41017138852 ; turns =  603.959169505\n",
      "min(lamin) = 2.35806314011 ; turns =  617.305400104\n",
      "min(lamin) = 2.30816038413 ; turns =  630.651630703\n",
      "min(lamin) = 2.26032600052 ; turns =  643.997861302\n",
      "min(lamin) = 2.21443400513 ; turns =  657.344091901\n",
      "min(lamin) = 2.17036844181 ; turns =  670.6903225\n",
      "min(lamin) = 2.12802240404 ; turns =  684.036553099\n",
      "min(lamin) = 2.08729716908 ; turns =  697.382783697\n",
      "min(lamin) = 2.04810142951 ; turns =  710.729014296\n",
      "min(lamin) = 2.01035060989 ; turns =  724.075244895\n",
      "min(lamin) = 1.9739662575 ; turns =  737.421475494\n",
      "min(lamin) = 1.93887549819 ; turns =  750.767706093\n",
      "min(lamin) = 1.90501054919 ; turns =  764.113936692\n",
      "min(lamin) = 1.87230828204 ; turns =  777.460167291\n",
      "min(lamin) = 1.84070982994 ; turns =  790.806397889\n",
      "min(lamin) = 1.81016023403 ; turns =  804.152628488\n",
      "min(lamin) = 1.7806081244 ; turns =  817.498859087\n",
      "min(lamin) = 1.75200543188 ; turns =  830.845089686\n",
      "min(lamin) = 1.72430712707 ; turns =  844.191320285\n",
      "min(lamin) = 1.69747098384 ; turns =  857.537550884\n",
      "min(lamin) = 1.67145736449 ; turns =  870.883781483\n",
      "min(lamin) = 1.64622902445 ; turns =  884.230012081\n",
      "min(lamin) = 1.62175093431 ; turns =  897.57624268\n",
      "min(lamin) = 1.59799011758 ; turns =  910.922473279\n",
      "min(lamin) = 1.57491550246 ; turns =  924.268703878\n",
      "min(lamin) = 1.5524977863 ; turns =  937.614934477\n",
      "min(lamin) = 1.53070931142 ; turns =  950.961165076\n",
      "min(lamin) = 1.50952395129 ; turns =  964.307395675\n",
      "min(lamin) = 1.48891700604 ; turns =  977.653626273\n",
      "min(lamin) = 1.46886510637 ; turns =  990.999856872\n",
      "min(lamin) = 1.44934612514 ; turns =  1004.34608747\n",
      "min(lamin) = 1.43033909594 ; turns =  1017.69231807\n",
      "min(lamin) = 1.41182413796 ; turns =  1031.03854867\n",
      "min(lamin) = 1.3937823866 ; turns =  1044.38477927\n",
      "min(lamin) = 1.3761959294 ; turns =  1057.73100987\n",
      "min(lamin) = 1.35904774668 ; turns =  1071.07724047\n",
      "min(lamin) = 1.34232165664 ; turns =  1084.42347106\n",
      "min(lamin) = 1.32600226438 ; turns =  1097.76970166\n",
      "min(lamin) = 1.3100749147 ; turns =  1111.11593226\n",
      "min(lamin) = 1.29452564813 ; turns =  1124.46216286\n",
      "min(lamin) = 1.2793411602 ; turns =  1137.80839346\n",
      "min(lamin) = 1.26450876342 ; turns =  1151.15462406\n",
      "min(lamin) = 1.25001635195 ; turns =  1164.50085466\n",
      "min(lamin) = 1.23585236861 ; turns =  1177.84708526\n",
      "min(lamin) = 1.22200577421 ; turns =  1191.19331586\n",
      "min(lamin) = 1.20846601879 ; turns =  1204.53954645\n",
      "min(lamin) = 1.19522301484 ; turns =  1217.88577705\n",
      "min(lamin) = 1.18226711224 ; turns =  1231.23200765\n",
      "min(lamin) = 1.16958907479 ; turns =  1244.57823825\n",
      "min(lamin) = 1.15718005828 ; turns =  1257.92446885\n",
      "min(lamin) = 1.1450315899 ; turns =  1271.27069945\n",
      "min(lamin) = 1.13313554892 ; turns =  1284.61693005\n",
      "min(lamin) = 1.12148414864 ; turns =  1297.96316065\n",
      "min(lamin) = 1.11006991935 ; turns =  1311.30939124\n",
      "min(lamin) = 1.09888569238 ; turns =  1324.65562184\n",
      "min(lamin) = 1.0879245851 ; turns =  1338.00185244\n",
      "Optimal result = 350.380788127\n"
     ]
    }
   ],
   "source": [
    "results = []\n",
    "for i in range(len(num_lamin)):\n",
    "    print(\"min(lamin) =\",min(num_lamin[i]),\"; turns = \",n_turns[i])\n",
    "    results.append((min(num_lamin[i])**2)*(n_turns[i]**2))\n",
    "\n",
    "test = results.index(min(results))\n",
    "print(\"Optimal result (maybe)=\", n_turns[test])"
   ]
  },
  {
   "cell_type": "markdown",
   "metadata": {},
   "source": [
    "### When I didn't know what I was doing..."
   ]
  },
  {
   "cell_type": "code",
   "execution_count": 9,
   "metadata": {
    "collapsed": false
   },
   "outputs": [
    {
     "data": {
      "text/plain": [
       "100"
      ]
     },
     "execution_count": 9,
     "metadata": {},
     "output_type": "execute_result"
    }
   ],
   "source": [
    "len_of_core = 122.5/1000\n",
    "depth = np.divide(np.linspace(0.5,50,100),1000) #0.5mm ->5cm\n",
    "x_area_core = np.multiply((9.5/1000),depth)\n",
    "#x_area_core = (9.5/1000)*(20/1000) #np.multiply((9.5/1000),depth)\n",
    "len(x_area_core)"
   ]
  },
  {
   "cell_type": "code",
   "execution_count": 33,
   "metadata": {
    "collapsed": false
   },
   "outputs": [],
   "source": [
    "flux = []\n",
    "for x_area in x_area_core:\n",
    "    flux.append(np.multiply(b_values,x_area))\n",
    "# flux = np.multiply(b_values,x_area_core)\n",
    "#len(mmf) = 100\n",
    "#len(flux) = 100\n",
    "# flux = 2D array 100,61\n",
    "len(flux)\n",
    "\n",
    "\n",
    "# The 2D flux array has all the flux values for a different \n",
    "# cross sectional area at each element. Each element of these arrays \n",
    "# is then divided from each mmf to find the total reluctance for \n",
    "# each cross sectional area for all possible values along the b-h curve.\n",
    "# This reslts in a 3D array holding values for every area, every b values\n",
    "# and every mmf.\n",
    "\n",
    "i = 0\n",
    "j = 0\n",
    "total_r = [[] for i in range(len(x_area_core))]\n",
    "for an_area in flux:\n",
    "    #total_r[j].append([])\n",
    "    for a_flux in an_area:\n",
    "        #print(\"i:\",i,\"j\",j)\n",
    "        #print(\"total_r[j]:\",len(total_r[j]),\"total_r:\",len(total_r))\n",
    "        total_r[j].append(np.divide(mmf,a_flux)) #using one flux val for now     flux[j][i]\n",
    "        i+=1\n",
    "    j+=1\n",
    "    i=0"
   ]
  },
  {
   "cell_type": "code",
   "execution_count": 34,
   "metadata": {
    "collapsed": false
   },
   "outputs": [
    {
     "name": "stdout",
     "output_type": "stream",
     "text": [
      "total_r[j]: 61 total_r: 100 el: 100\n"
     ]
    }
   ],
   "source": [
    "print(\"total_r[j]:\",len(total_r[0]),\"total_r:\",len(total_r),\"el:\",len(total_r[0][1]))\n",
    "#print(total_r[0:10][0:3][:])"
   ]
  },
  {
   "cell_type": "code",
   "execution_count": 32,
   "metadata": {
    "collapsed": false
   },
   "outputs": [
    {
     "ename": "IndexError",
     "evalue": "index 61 is out of bounds for axis 0 with size 61",
     "output_type": "error",
     "traceback": [
      "\u001b[0;31m---------------------------------------------------------------------------\u001b[0m",
      "\u001b[0;31mIndexError\u001b[0m                                Traceback (most recent call last)",
      "\u001b[0;32m<ipython-input-32-397e526dd774>\u001b[0m in \u001b[0;36m<module>\u001b[0;34m()\u001b[0m\n\u001b[1;32m      5\u001b[0m \u001b[1;32mfor\u001b[0m \u001b[0man_area\u001b[0m \u001b[1;32min\u001b[0m \u001b[0mflux\u001b[0m\u001b[1;33m:\u001b[0m\u001b[1;33m\u001b[0m\u001b[0m\n\u001b[1;32m      6\u001b[0m     \u001b[1;32mfor\u001b[0m \u001b[0ma_flux\u001b[0m \u001b[1;32min\u001b[0m \u001b[0man_area\u001b[0m\u001b[1;33m:\u001b[0m\u001b[1;33m\u001b[0m\u001b[0m\n\u001b[0;32m----> 7\u001b[0;31m         \u001b[0mr_gap\u001b[0m\u001b[1;33m[\u001b[0m\u001b[0mj\u001b[0m\u001b[1;33m]\u001b[0m\u001b[1;33m.\u001b[0m\u001b[0mappend\u001b[0m\u001b[1;33m(\u001b[0m\u001b[0mnp\u001b[0m\u001b[1;33m.\u001b[0m\u001b[0msubtract\u001b[0m\u001b[1;33m(\u001b[0m\u001b[0mtotal_r\u001b[0m\u001b[1;33m[\u001b[0m\u001b[0mi\u001b[0m\u001b[1;33m]\u001b[0m\u001b[1;33m[\u001b[0m\u001b[0mj\u001b[0m\u001b[1;33m]\u001b[0m\u001b[1;33m,\u001b[0m\u001b[1;33m(\u001b[0m\u001b[0mlen_of_core\u001b[0m\u001b[1;33m)\u001b[0m\u001b[1;33m/\u001b[0m\u001b[1;33m(\u001b[0m\u001b[0mmew\u001b[0m\u001b[1;33m[\u001b[0m\u001b[0mi\u001b[0m\u001b[1;33m]\u001b[0m\u001b[1;33m*\u001b[0m\u001b[0mx_area_core\u001b[0m\u001b[1;33m[\u001b[0m\u001b[0mj\u001b[0m\u001b[1;33m]\u001b[0m\u001b[1;33m)\u001b[0m\u001b[1;33m)\u001b[0m\u001b[1;33m)\u001b[0m\u001b[1;33m\u001b[0m\u001b[0m\n\u001b[0m\u001b[1;32m      8\u001b[0m         \u001b[0mi\u001b[0m\u001b[1;33m+=\u001b[0m\u001b[1;36m1\u001b[0m\u001b[1;33m\u001b[0m\u001b[0m\n\u001b[1;32m      9\u001b[0m     \u001b[0mj\u001b[0m\u001b[1;33m+=\u001b[0m\u001b[1;36m1\u001b[0m\u001b[1;33m\u001b[0m\u001b[0m\n",
      "\u001b[0;31mIndexError\u001b[0m: index 61 is out of bounds for axis 0 with size 61"
     ]
    }
   ],
   "source": [
    "r_gap =[[] for i in range(len(x_area_core))]\n",
    "\n",
    "i = 0\n",
    "j = 0\n",
    "for an_area in flux:\n",
    "    for a_flux in an_area:\n",
    "        r_gap[j].append(np.subtract(total_r[i][j],(len_of_core)/(mew[i]*x_area_core[j])))\n",
    "        i+=1\n",
    "    j+=1\n",
    "    \n",
    "#l_gap = r_gap*4*np.pi*10e-7*x_area_core\n",
    "# l_gap"
   ]
  }
 ],
 "metadata": {
  "anaconda-cloud": {},
  "kernelspec": {
   "display_name": "Python [conda root]",
   "language": "python",
   "name": "conda-root-py"
  },
  "language_info": {
   "codemirror_mode": {
    "name": "ipython",
    "version": 3
   },
   "file_extension": ".py",
   "mimetype": "text/x-python",
   "name": "python",
   "nbconvert_exporter": "python",
   "pygments_lexer": "ipython3",
   "version": "3.5.2"
  }
 },
 "nbformat": 4,
 "nbformat_minor": 2
}
