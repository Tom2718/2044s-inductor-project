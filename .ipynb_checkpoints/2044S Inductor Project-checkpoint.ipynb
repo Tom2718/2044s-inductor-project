{
 "cells": [
  {
   "cell_type": "markdown",
   "metadata": {},
   "source": [
    "# Inductor Project\n",
    "---------------"
   ]
  },
  {
   "cell_type": "markdown",
   "metadata": {},
   "source": [
    "The following method is the theoretical process for determining the unknowns needed to build an\n",
    "inductor.\n",
    "1. Initially a fill factor for the window area above “kfill” must be chosen in the range: 0.01 to\n",
    "0.8. This is the ratio of copper area to the window area.\n",
    "2. The Number of turns can be determined by considering the cross sectional area of the\n",
    "wire and the proportion (kfill) of the window area occupied by copper:\n",
    "𝑁 =\n",
    "𝐴𝑟𝑒𝑎 𝑜𝑓 𝑤𝑖𝑛𝑑𝑜𝑤 ∗ 𝑘𝑓𝑖𝑙𝑙  /\n",
    "𝐶𝑟𝑜𝑠𝑠 𝑠𝑒𝑐𝑡𝑖𝑜𝑛𝑎𝑙 𝐴𝑟𝑒𝑎 𝑜𝑓 𝑡ℎ𝑒 𝑤𝑖𝑟𝑒\n",
    "3. Decide on the operating flux density for your inductor by considering the magnetization\n",
    "curve of the material.\n",
    "4. Determine the airgap length by considering the MMF’s around the loop of your magnetic\n",
    "equivalent circuit.\n",
    "5. Find the total flux in the core by using alternate definitions for flux linkage of the coil:\n",
    "𝜆 = 𝑁∅ = 𝐿𝑖\n",
    "6. From the flux the cross section area of the core can be calculated in order to calculate\n",
    "depth and finally the number of laminations needed:\n",
    "𝐸𝑓𝑓𝑒𝑐𝑡𝑖𝑣𝑒 𝐶𝑟𝑜𝑠𝑠 𝑠𝑒𝑐𝑡𝑖𝑜𝑛𝑎𝑙 𝐴𝑟𝑒𝑎 𝑜𝑓 𝐶𝑜𝑟𝑒 =\n",
    "∅\n",
    "𝐵\n",
    "Note: The area above is the effective area of the ferromagnetic material required. This\n",
    "differs from the actual core area below, by the stacking factor.\n",
    "7. The actual depth of the core can be calculated based on the actual core area and width.\n",
    "8. The number of laminations can now be calculated on the basis of the lamination\n",
    "thickness and actual core depth.\n",
    "𝑁𝑜. 𝐿𝑎𝑚𝑖𝑛𝑎𝑡𝑖𝑜𝑛𝑠 =\n",
    "𝐷𝑒𝑝𝑡ℎ\n",
    "𝑇ℎ𝑖𝑐𝑘𝑛𝑒𝑠𝑠 𝑜𝑓 𝐿𝑎𝑚𝑖𝑛𝑎𝑡𝑖𝑜𝑛𝑠\n",
    "9. There are infinite permutations of the parameters for the design. Please consider the\n",
    "practicality of your design. i.e. 100000 turns or 30 laminations just won’t work! It is\n",
    "recommended to use excel or Matlab to run through several design iterations using the\n",
    "step outlined above."
   ]
  },
  {
   "cell_type": "code",
   "execution_count": 87,
   "metadata": {
    "collapsed": false
   },
   "outputs": [],
   "source": [
    "import numpy as np\n",
    "import pandas as pd\n",
    "import matplotlib.pyplot as plt"
   ]
  },
  {
   "cell_type": "code",
   "execution_count": 88,
   "metadata": {
    "collapsed": false
   },
   "outputs": [],
   "source": [
    "kfill = np.linspace(0.01,0.8,100)\n",
    "area_of_window = (9.5/1000)*(28/1000)\n",
    "area_of_wire = np.pi*(0.45/2000)**2\n",
    "n_turns = np.divide(np.multiply(area_of_window,kfill),area_of_wire)"
   ]
  },
  {
   "cell_type": "code",
   "execution_count": 89,
   "metadata": {
    "collapsed": false
   },
   "outputs": [
    {
     "data": {
      "text/plain": [
       "array([   16.72502316,    30.07125375,    43.41748435,    56.76371495,\n",
       "          70.10994555,    83.45617615,    96.80240675,   110.14863735,\n",
       "         123.49486795,   136.84109855,   150.18732914,   163.53355974,\n",
       "         176.87979034,   190.22602094,   203.57225154,   216.91848214,\n",
       "         230.26471274,   243.61094334,   256.95717394,   270.30340453,\n",
       "         283.64963513,   296.99586573,   310.34209633,   323.68832693,\n",
       "         337.03455753,   350.38078813,   363.72701873,   377.07324932,\n",
       "         390.41947992,   403.76571052,   417.11194112,   430.45817172,\n",
       "         443.80440232,   457.15063292,   470.49686352,   483.84309412,\n",
       "         497.18932471,   510.53555531,   523.88178591,   537.22801651,\n",
       "         550.57424711,   563.92047771,   577.26670831,   590.61293891,\n",
       "         603.95916951,   617.3054001 ,   630.6516307 ,   643.9978613 ,\n",
       "         657.3440919 ,   670.6903225 ,   684.0365531 ,   697.3827837 ,\n",
       "         710.7290143 ,   724.0752449 ,   737.42147549,   750.76770609,\n",
       "         764.11393669,   777.46016729,   790.80639789,   804.15262849,\n",
       "         817.49885909,   830.84508969,   844.19132028,   857.53755088,\n",
       "         870.88378148,   884.23001208,   897.57624268,   910.92247328,\n",
       "         924.26870388,   937.61493448,   950.96116508,   964.30739567,\n",
       "         977.65362627,   990.99985687,  1004.34608747,  1017.69231807,\n",
       "        1031.03854867,  1044.38477927,  1057.73100987,  1071.07724047,\n",
       "        1084.42347106,  1097.76970166,  1111.11593226,  1124.46216286,\n",
       "        1137.80839346,  1151.15462406,  1164.50085466,  1177.84708526,\n",
       "        1191.19331586,  1204.53954645,  1217.88577705,  1231.23200765,\n",
       "        1244.57823825,  1257.92446885,  1271.27069945,  1284.61693005,\n",
       "        1297.96316065,  1311.30939124,  1324.65562184,  1338.00185244])"
      ]
     },
     "execution_count": 89,
     "metadata": {},
     "output_type": "execute_result"
    }
   ],
   "source": [
    "n_turns"
   ]
  },
  {
   "cell_type": "code",
   "execution_count": 90,
   "metadata": {
    "collapsed": false
   },
   "outputs": [],
   "source": [
    "bh_curve = pd.read_csv(\"bhcurve.csv\")"
   ]
  },
  {
   "cell_type": "code",
   "execution_count": 91,
   "metadata": {
    "collapsed": false
   },
   "outputs": [
    {
     "data": {
      "image/png": "[encoded data removed]",
      "text/plain": [
       "<matplotlib.figure.Figure at 0x137eeb8ee48>"
      ]
     },
     "metadata": {},
     "output_type": "display_data"
    }
   ],
   "source": [
    "b_values = bh_curve['B'].values[0:50]\n",
    "h_values = bh_curve['H'].values[0:50]\n",
    "fig = plt.figure()\n",
    "ax = fig.add_subplot(111)\n",
    "#ax.set_xscale('log')\n",
    "ax.plot(h_values,b_values)\n",
    "plt.show()"
   ]
  },
  {
   "cell_type": "code",
   "execution_count": 148,
   "metadata": {
    "collapsed": false
   },
   "outputs": [],
   "source": [
    "#choosing B to be 0.7 because the response is linear around it\n",
    "b = 0.5\n",
    "h = 88.46\n",
    "mew = np.divide(b,h)"
   ]
  },
  {
   "cell_type": "code",
   "execution_count": 149,
   "metadata": {
    "collapsed": false
   },
   "outputs": [],
   "source": [
    "i = 1\n",
    "mmf = np.multiply(n_turns,i)"
   ]
  },
  {
   "cell_type": "code",
   "execution_count": 150,
   "metadata": {
    "collapsed": false
   },
   "outputs": [
    {
     "data": {
      "text/plain": [
       "array([  8.45596502e-06,   2.52273330e-05,   4.19987010e-05,\n",
       "         5.87700690e-05,   7.55414370e-05,   9.23128050e-05,\n",
       "         1.09084173e-04,   1.25855541e-04,   1.42626909e-04,\n",
       "         1.59398277e-04,   1.76169645e-04,   1.92941013e-04,\n",
       "         2.09712381e-04,   2.26483749e-04,   2.43255117e-04,\n",
       "         2.60026485e-04,   2.76797853e-04,   2.93569221e-04,\n",
       "         3.10340589e-04,   3.27111957e-04,   3.43883325e-04,\n",
       "         3.60654693e-04,   3.77426061e-04,   3.94197429e-04,\n",
       "         4.10968797e-04,   4.27740165e-04,   4.44511533e-04,\n",
       "         4.61282901e-04,   4.78054269e-04,   4.94825637e-04,\n",
       "         5.11597005e-04,   5.28368373e-04,   5.45139741e-04,\n",
       "         5.61911109e-04,   5.78682477e-04,   5.95453845e-04,\n",
       "         6.12225213e-04,   6.28996581e-04,   6.45767949e-04,\n",
       "         6.62539317e-04,   6.79310685e-04,   6.96082053e-04,\n",
       "         7.12853421e-04,   7.29624789e-04,   7.46396157e-04,\n",
       "         7.63167525e-04,   7.79938893e-04,   7.96710261e-04,\n",
       "         8.13481629e-04,   8.30252997e-04,   8.47024365e-04,\n",
       "         8.63795733e-04,   8.80567101e-04,   8.97338469e-04,\n",
       "         9.14109837e-04,   9.30881205e-04,   9.47652573e-04,\n",
       "         9.64423941e-04,   9.81195309e-04,   9.97966677e-04,\n",
       "         1.01473805e-03,   1.03150941e-03,   1.04828078e-03,\n",
       "         1.06505215e-03,   1.08182352e-03,   1.09859489e-03,\n",
       "         1.11536625e-03,   1.13213762e-03,   1.14890899e-03,\n",
       "         1.16568036e-03,   1.18245173e-03,   1.19922309e-03,\n",
       "         1.21599446e-03,   1.23276583e-03,   1.24953720e-03,\n",
       "         1.26630857e-03,   1.28307993e-03,   1.29985130e-03,\n",
       "         1.31662267e-03,   1.33339404e-03,   1.35016541e-03,\n",
       "         1.36693677e-03,   1.38370814e-03,   1.40047951e-03,\n",
       "         1.41725088e-03,   1.43402225e-03,   1.45079361e-03,\n",
       "         1.46756498e-03,   1.48433635e-03,   1.50110772e-03,\n",
       "         1.51787909e-03,   1.53465045e-03,   1.55142182e-03,\n",
       "         1.56819319e-03,   1.58496456e-03,   1.60173593e-03,\n",
       "         1.61850729e-03,   1.63527866e-03,   1.65205003e-03,\n",
       "         1.66882140e-03])"
      ]
     },
     "execution_count": 150,
     "metadata": {},
     "output_type": "execute_result"
    }
   ],
   "source": [
    "len_of_core = 113/1000\n",
    "l_gap = []\n",
    "\n",
    "u0 = 4*np.pi*(10**(-7))\n",
    "r1 = u0*len_of_core/(2*mew) #lc*u0/uc\n",
    "t = np.divide(u0*i,2*b) #u0*i/b\n",
    "r2 = np.multiply(t,n_turns) #u0*N*I/b\n",
    "\n",
    "l_gap = np.subtract(r2,r1)\n",
    "\n",
    "#mmf = Bg*l_gap/u0 + H_c*l_core\n",
    "#np.divide(mmf,len_of_core)\n",
    "#gradient_of_load_line = np.divide(u0*len_of_core,l_gap)\n",
    "    \n",
    "l_gap"
   ]
  },
  {
   "cell_type": "code",
   "execution_count": 151,
   "metadata": {
    "collapsed": false
   },
   "outputs": [
    {
     "name": "stdout",
     "output_type": "stream",
     "text": [
      "Gap: 0.000712853421059\n",
      "Gap: 0.00072962478906\n",
      "Gap: 0.000746396157061\n",
      "Gap: 0.000763167525062\n",
      "Gap: 0.000779938893063\n",
      "Gap: 0.000796710261064\n",
      "Gap: 0.000813481629065\n",
      "Gap: 0.000830252997066\n",
      "Gap: 0.000847024365067\n",
      "Gap: 0.000863795733068\n",
      "Gap: 0.000880567101069\n",
      "Gap: 0.00089733846907\n",
      "Load Lines With MMF = 256.957173935\n"
     ]
    },
    {
     "data": {
      "image/png": "[encoded data removed]",
      "text/plain": [
       "<matplotlib.figure.Figure at 0x137f0028908>"
      ]
     },
     "metadata": {},
     "output_type": "display_data"
    }
   ],
   "source": [
    "b_values = bh_curve['B'].values[10:32]\n",
    "h_values = bh_curve['H'].values[10:32]\n",
    "fig = plt.figure()\n",
    "ax = fig.add_subplot(111)\n",
    "#ax.set_xscale('log')\n",
    "\n",
    "for l in l_gap:\n",
    "#     h_dummy = np.linspace(0,250,400)\n",
    "    h_core_int = np.divide(np.multiply(mmf[18],u0),l)\n",
    "    gradient_of_load_line = np.divide(-u0*len_of_core,l)\n",
    "    y = np.add(np.multiply(gradient_of_load_line,h_values),h_core_int)\n",
    "    if(0.34<=y[20]<=0.44):\n",
    "        ax.plot(h_values,y)\n",
    "        print(\"Gap:\",l)\n",
    "    \n",
    "ax.plot(h_values,b_values)\n",
    "print(\"Load Lines With MMF =\",mmf[18])\n",
    "    \n",
    "plt.show()"
   ]
  },
  {
   "cell_type": "code",
   "execution_count": 152,
   "metadata": {
    "collapsed": false
   },
   "outputs": [],
   "source": [
    "inductance = 5.5/(50*2*np.pi)\n",
    "flux = np.divide(inductance*1,n_turns)\n",
    "eff_x_area_core = np.divide(flux,b)\n",
    "x_area_core = np.divide(flux,0.97)"
   ]
  },
  {
   "cell_type": "code",
   "execution_count": 153,
   "metadata": {
    "collapsed": true
   },
   "outputs": [],
   "source": [
    "depths = np.divide(x_area_core,9.5/1000)"
   ]
  },
  {
   "cell_type": "code",
   "execution_count": 154,
   "metadata": {
    "collapsed": false
   },
   "outputs": [
    {
     "data": {
      "text/plain": [
       "array([ 227.18557109,  126.35601988,   87.51506435,   66.93860577,\n",
       "         54.19607599,   45.52909218,   39.25195731,   34.49596862,\n",
       "         30.76795012,   27.76712536,   25.29963053,   23.23488795,\n",
       "         21.48173022,   19.97457508,   18.66503862,   17.5166445 ,\n",
       "         16.5013731 ,   15.59734503,   14.78722652,   14.05710721,\n",
       "         13.39569478,   12.7937267 ,   12.24353377,   11.73871166,\n",
       "         11.27387045,   10.84444144,   10.44652649,   10.07677936,\n",
       "          9.73231135,    9.41061571,    9.1095065 ,    8.82706889,\n",
       "          8.5616184 ,    8.31166723,    8.07589642,    7.85313252,\n",
       "          7.64232808,    7.44254518,    7.25294148,    7.07275835,\n",
       "          6.90131069,    6.73797829,    6.58219828,    6.43345868,\n",
       "          6.29129274,    6.15527409,    6.02501247,    5.90014993,\n",
       "          5.78035763,    5.66533288,    5.55479663,    5.44849117,\n",
       "          5.34617816,    5.24763685,    5.15266244,    5.0610647 ,\n",
       "          4.97266671,    4.88730368,    4.80482195,    4.72507805,\n",
       "          4.64793791,    4.57327603,    4.50097489,    4.43092426,\n",
       "          4.36302067,    4.2971669 ,    4.23327151,    4.17124843,\n",
       "          4.11101655,    4.05249938,    3.99562472,    3.94032438,\n",
       "          3.88653388,    3.83419222,    3.78324164,    3.73362741,\n",
       "          3.68529765,    3.6382031 ,    3.592297  ,    3.54753494,\n",
       "          3.50387467,    3.46127601,    3.41970071,    3.37911231,\n",
       "          3.3394761 ,    3.30075896,    3.26292928,    3.2259569 ,\n",
       "          3.18981301,    3.15447006,    3.11990173,    3.08608281,\n",
       "          3.05298921,    3.02059784,    2.98888658,    2.95783424,\n",
       "          2.92742048,    2.89762581,    2.86843152,    2.83981964])"
      ]
     },
     "execution_count": 154,
     "metadata": {},
     "output_type": "execute_result"
    }
   ],
   "source": [
    "num_lamin = np.divide(depths,0.5/1000)\n",
    "num_lamin"
   ]
  },
  {
   "cell_type": "code",
   "execution_count": 155,
   "metadata": {
    "collapsed": false
   },
   "outputs": [
    {
     "data": {
      "image/png": "[encoded data removed]",
      "text/plain": [
       "<matplotlib.figure.Figure at 0x137f036add8>"
      ]
     },
     "metadata": {},
     "output_type": "display_data"
    }
   ],
   "source": [
    "plt.plot(num_lamin,n_turns)\n",
    "plt.show()"
   ]
  },
  {
   "cell_type": "code",
   "execution_count": 188,
   "metadata": {
    "collapsed": false
   },
   "outputs": [
    {
     "data": {
      "text/html": [
       "<div>\n",
       "<style>\n",
       "    .dataframe thead tr:only-child th {\n",
       "        text-align: right;\n",
       "    }\n",
       "\n",
       "    .dataframe thead th {\n",
       "        text-align: left;\n",
       "    }\n",
       "\n",
       "    .dataframe tbody tr th {\n",
       "        vertical-align: top;\n",
       "    }\n",
       "</style>\n",
       "<table border=\"1\" class=\"dataframe\">\n",
       "  <thead>\n",
       "    <tr style=\"text-align: right;\">\n",
       "      <th></th>\n",
       "      <th>Gap Length:</th>\n",
       "      <th>Laminations:</th>\n",
       "      <th>Turns Width:</th>\n",
       "      <th>Turns:</th>\n",
       "    </tr>\n",
       "  </thead>\n",
       "  <tbody>\n",
       "    <tr>\n",
       "      <th>14</th>\n",
       "      <td>0.000243</td>\n",
       "      <td>18.665039</td>\n",
       "      <td>0.001156</td>\n",
       "      <td>203.572252</td>\n",
       "    </tr>\n",
       "    <tr>\n",
       "      <th>15</th>\n",
       "      <td>0.000260</td>\n",
       "      <td>17.516644</td>\n",
       "      <td>0.001232</td>\n",
       "      <td>216.918482</td>\n",
       "    </tr>\n",
       "    <tr>\n",
       "      <th>16</th>\n",
       "      <td>0.000277</td>\n",
       "      <td>16.501373</td>\n",
       "      <td>0.001308</td>\n",
       "      <td>230.264713</td>\n",
       "    </tr>\n",
       "    <tr>\n",
       "      <th>17</th>\n",
       "      <td>0.000294</td>\n",
       "      <td>15.597345</td>\n",
       "      <td>0.001384</td>\n",
       "      <td>243.610943</td>\n",
       "    </tr>\n",
       "    <tr>\n",
       "      <th>18</th>\n",
       "      <td>0.000310</td>\n",
       "      <td>14.787227</td>\n",
       "      <td>0.001460</td>\n",
       "      <td>256.957174</td>\n",
       "    </tr>\n",
       "    <tr>\n",
       "      <th>19</th>\n",
       "      <td>0.000327</td>\n",
       "      <td>14.057107</td>\n",
       "      <td>0.001535</td>\n",
       "      <td>270.303405</td>\n",
       "    </tr>\n",
       "    <tr>\n",
       "      <th>20</th>\n",
       "      <td>0.000344</td>\n",
       "      <td>13.395695</td>\n",
       "      <td>0.001611</td>\n",
       "      <td>283.649635</td>\n",
       "    </tr>\n",
       "    <tr>\n",
       "      <th>21</th>\n",
       "      <td>0.000361</td>\n",
       "      <td>12.793727</td>\n",
       "      <td>0.001687</td>\n",
       "      <td>296.995866</td>\n",
       "    </tr>\n",
       "    <tr>\n",
       "      <th>22</th>\n",
       "      <td>0.000377</td>\n",
       "      <td>12.243534</td>\n",
       "      <td>0.001763</td>\n",
       "      <td>310.342096</td>\n",
       "    </tr>\n",
       "    <tr>\n",
       "      <th>23</th>\n",
       "      <td>0.000394</td>\n",
       "      <td>11.738712</td>\n",
       "      <td>0.001839</td>\n",
       "      <td>323.688327</td>\n",
       "    </tr>\n",
       "    <tr>\n",
       "      <th>24</th>\n",
       "      <td>0.000411</td>\n",
       "      <td>11.273870</td>\n",
       "      <td>0.001914</td>\n",
       "      <td>337.034558</td>\n",
       "    </tr>\n",
       "    <tr>\n",
       "      <th>25</th>\n",
       "      <td>0.000428</td>\n",
       "      <td>10.844441</td>\n",
       "      <td>0.001990</td>\n",
       "      <td>350.380788</td>\n",
       "    </tr>\n",
       "    <tr>\n",
       "      <th>26</th>\n",
       "      <td>0.000445</td>\n",
       "      <td>10.446526</td>\n",
       "      <td>0.002066</td>\n",
       "      <td>363.727019</td>\n",
       "    </tr>\n",
       "    <tr>\n",
       "      <th>27</th>\n",
       "      <td>0.000461</td>\n",
       "      <td>10.076779</td>\n",
       "      <td>0.002142</td>\n",
       "      <td>377.073249</td>\n",
       "    </tr>\n",
       "    <tr>\n",
       "      <th>28</th>\n",
       "      <td>0.000478</td>\n",
       "      <td>9.732311</td>\n",
       "      <td>0.002218</td>\n",
       "      <td>390.419480</td>\n",
       "    </tr>\n",
       "    <tr>\n",
       "      <th>29</th>\n",
       "      <td>0.000495</td>\n",
       "      <td>9.410616</td>\n",
       "      <td>0.002293</td>\n",
       "      <td>403.765711</td>\n",
       "    </tr>\n",
       "    <tr>\n",
       "      <th>30</th>\n",
       "      <td>0.000512</td>\n",
       "      <td>9.109506</td>\n",
       "      <td>0.002369</td>\n",
       "      <td>417.111941</td>\n",
       "    </tr>\n",
       "    <tr>\n",
       "      <th>31</th>\n",
       "      <td>0.000528</td>\n",
       "      <td>8.827069</td>\n",
       "      <td>0.002445</td>\n",
       "      <td>430.458172</td>\n",
       "    </tr>\n",
       "    <tr>\n",
       "      <th>32</th>\n",
       "      <td>0.000545</td>\n",
       "      <td>8.561618</td>\n",
       "      <td>0.002521</td>\n",
       "      <td>443.804402</td>\n",
       "    </tr>\n",
       "    <tr>\n",
       "      <th>33</th>\n",
       "      <td>0.000562</td>\n",
       "      <td>8.311667</td>\n",
       "      <td>0.002597</td>\n",
       "      <td>457.150633</td>\n",
       "    </tr>\n",
       "    <tr>\n",
       "      <th>34</th>\n",
       "      <td>0.000579</td>\n",
       "      <td>8.075896</td>\n",
       "      <td>0.002672</td>\n",
       "      <td>470.496864</td>\n",
       "    </tr>\n",
       "    <tr>\n",
       "      <th>35</th>\n",
       "      <td>0.000595</td>\n",
       "      <td>7.853133</td>\n",
       "      <td>0.002748</td>\n",
       "      <td>483.843094</td>\n",
       "    </tr>\n",
       "    <tr>\n",
       "      <th>36</th>\n",
       "      <td>0.000612</td>\n",
       "      <td>7.642328</td>\n",
       "      <td>0.002824</td>\n",
       "      <td>497.189325</td>\n",
       "    </tr>\n",
       "    <tr>\n",
       "      <th>37</th>\n",
       "      <td>0.000629</td>\n",
       "      <td>7.442545</td>\n",
       "      <td>0.002900</td>\n",
       "      <td>510.535555</td>\n",
       "    </tr>\n",
       "    <tr>\n",
       "      <th>38</th>\n",
       "      <td>0.000646</td>\n",
       "      <td>7.252941</td>\n",
       "      <td>0.002976</td>\n",
       "      <td>523.881786</td>\n",
       "    </tr>\n",
       "    <tr>\n",
       "      <th>39</th>\n",
       "      <td>0.000663</td>\n",
       "      <td>7.072758</td>\n",
       "      <td>0.003052</td>\n",
       "      <td>537.228017</td>\n",
       "    </tr>\n",
       "  </tbody>\n",
       "</table>\n",
       "</div>"
      ],
      "text/plain": [
       "    Gap Length:  Laminations:  Turns Width:      Turns:\n",
       "14     0.000243     18.665039      0.001156  203.572252\n",
       "15     0.000260     17.516644      0.001232  216.918482\n",
       "16     0.000277     16.501373      0.001308  230.264713\n",
       "17     0.000294     15.597345      0.001384  243.610943\n",
       "18     0.000310     14.787227      0.001460  256.957174\n",
       "19     0.000327     14.057107      0.001535  270.303405\n",
       "20     0.000344     13.395695      0.001611  283.649635\n",
       "21     0.000361     12.793727      0.001687  296.995866\n",
       "22     0.000377     12.243534      0.001763  310.342096\n",
       "23     0.000394     11.738712      0.001839  323.688327\n",
       "24     0.000411     11.273870      0.001914  337.034558\n",
       "25     0.000428     10.844441      0.001990  350.380788\n",
       "26     0.000445     10.446526      0.002066  363.727019\n",
       "27     0.000461     10.076779      0.002142  377.073249\n",
       "28     0.000478      9.732311      0.002218  390.419480\n",
       "29     0.000495      9.410616      0.002293  403.765711\n",
       "30     0.000512      9.109506      0.002369  417.111941\n",
       "31     0.000528      8.827069      0.002445  430.458172\n",
       "32     0.000545      8.561618      0.002521  443.804402\n",
       "33     0.000562      8.311667      0.002597  457.150633\n",
       "34     0.000579      8.075896      0.002672  470.496864\n",
       "35     0.000595      7.853133      0.002748  483.843094\n",
       "36     0.000612      7.642328      0.002824  497.189325\n",
       "37     0.000629      7.442545      0.002900  510.535555\n",
       "38     0.000646      7.252941      0.002976  523.881786\n",
       "39     0.000663      7.072758      0.003052  537.228017"
      ]
     },
     "execution_count": 188,
     "metadata": {},
     "output_type": "execute_result"
    }
   ],
   "source": [
    "# result = num_lamin[0]*n_turns[0]\n",
    "# for x in range(len(num_lamin)):\n",
    "#     nxt = num_lamin[i]*n_turns[i]\n",
    "#     if nxt < result:\n",
    "#         result = nxt\n",
    "#         print(x)\n",
    "        \n",
    "d = {\"Turns:\":n_turns,\"Laminations:\":num_lamin,\"Gap Length:\":l_gap,\"Turns Width:\": (kfill*area_of_window)/(28/1000)}\n",
    "df = pd.DataFrame(data=d)\n",
    "        \n",
    "# resultindex = 18\n",
    "# print(\"Turns:\",n_turns[resultindex],\"; Laminations:\",num_lamin[resultindex],\"; Gap Length:\",l_gap[resultindex],\n",
    "#       \"; Turns Width:\", (kfill[resultindex]*area_of_window)/(28/1000), \"; kfill:\",kfill[resultindex])\n",
    "\n",
    "df[14:40]"
   ]
  },
  {
   "cell_type": "markdown",
   "metadata": {
    "collapsed": true
   },
   "source": [
    "<br>\n",
    "<br>\n",
    "<br>\n",
    "<br><br>\n",
    "<br><br>\n",
    "<br><br>\n",
    "<br><br>\n",
    "<br><br>\n",
    "<br><br>\n",
    "<br><br>\n",
    "<br><br>\n",
    "<br><br>\n",
    "<br><br>\n",
    "<br><br>\n",
    "<br><br>\n",
    "<br><br>\n",
    "<br><br>\n",
    "<br><br>\n",
    "<br>"
   ]
  },
  {
   "cell_type": "code",
   "execution_count": null,
   "metadata": {
    "collapsed": false
   },
   "outputs": [],
   "source": [
    "results = []\n",
    "for i in range(len(num_lamin)):\n",
    "    print(\"min(lamin) =\",min(num_lamin[i]),\"; turns = \",n_turns[i])\n",
    "    results.append((min(num_lamin[i]))*(n_turns[i]))\n",
    "\n",
    "test = results.index(min(results))\n",
    "print(\"Optimal result of turns (maybe)=\", n_turns[test], \"with gap length =\") #min(np.abs(l_gap[test])),\"B =\",\n",
    "      #b_values[l_gap[test].tolist().index(min(np.abs(l_gap[test])))])"
   ]
  },
  {
   "cell_type": "markdown",
   "metadata": {},
   "source": [
    "### When I didn't know what I was doing..."
   ]
  },
  {
   "cell_type": "code",
   "execution_count": null,
   "metadata": {
    "collapsed": false
   },
   "outputs": [],
   "source": [
    "len_of_core = 122.5/1000\n",
    "depth = np.divide(np.linspace(0.5,50,100),1000) #0.5mm ->5cm\n",
    "x_area_core = np.multiply((9.5/1000),depth)\n",
    "#x_area_core = (9.5/1000)*(20/1000) #np.multiply((9.5/1000),depth)\n",
    "len(x_area_core)"
   ]
  },
  {
   "cell_type": "code",
   "execution_count": null,
   "metadata": {
    "collapsed": false
   },
   "outputs": [],
   "source": [
    "flux = []\n",
    "for x_area in x_area_core:\n",
    "    flux.append(np.multiply(b_values,x_area))\n",
    "# flux = np.multiply(b_values,x_area_core)\n",
    "#len(mmf) = 100\n",
    "#len(flux) = 100\n",
    "# flux = 2D array 100,61\n",
    "len(flux)\n",
    "\n",
    "\n",
    "# The 2D flux array has all the flux values for a different \n",
    "# cross sectional area at each element. Each element of these arrays \n",
    "# is then divided from each mmf to find the total reluctance for \n",
    "# each cross sectional area for all possible values along the b-h curve.\n",
    "# This reslts in a 3D array holding values for every area, every b values\n",
    "# and every mmf.\n",
    "\n",
    "i = 0\n",
    "j = 0\n",
    "total_r = [[] for i in range(len(x_area_core))]\n",
    "for an_area in flux:\n",
    "    #total_r[j].append([])\n",
    "    for a_flux in an_area:\n",
    "        #print(\"i:\",i,\"j\",j)\n",
    "        #print(\"total_r[j]:\",len(total_r[j]),\"total_r:\",len(total_r))\n",
    "        total_r[j].append(np.divide(mmf,a_flux)) #using one flux val for now     flux[j][i]\n",
    "        i+=1\n",
    "    j+=1\n",
    "    i=0"
   ]
  },
  {
   "cell_type": "code",
   "execution_count": null,
   "metadata": {
    "collapsed": false
   },
   "outputs": [],
   "source": [
    "print(\"total_r[j]:\",len(total_r[0]),\"total_r:\",len(total_r),\"el:\",len(total_r[0][1]))\n",
    "#print(total_r[0:10][0:3][:])"
   ]
  },
  {
   "cell_type": "code",
   "execution_count": null,
   "metadata": {
    "collapsed": false
   },
   "outputs": [],
   "source": [
    "r_gap =[[] for i in range(len(x_area_core))]\n",
    "\n",
    "i = 0\n",
    "j = 0\n",
    "for an_area in flux:\n",
    "    for a_flux in an_area:\n",
    "        r_gap[j].append(np.subtract(total_r[i][j],(len_of_core)/(mew[i]*x_area_core[j])))\n",
    "        i+=1\n",
    "    j+=1\n",
    "    \n",
    "#l_gap = r_gap*4*np.pi*10e-7*x_area_core\n",
    "# l_gap"
   ]
  }
 ],
 "metadata": {
  "anaconda-cloud": {},
  "kernelspec": {
   "display_name": "Python [conda root]",
   "language": "python",
   "name": "conda-root-py"
  },
  "language_info": {
   "codemirror_mode": {
    "name": "ipython",
    "version": 3
   },
   "file_extension": ".py",
   "mimetype": "text/x-python",
   "name": "python",
   "nbconvert_exporter": "python",
   "pygments_lexer": "ipython3",
   "version": "3.5.2"
  }
 },
 "nbformat": 4,
 "nbformat_minor": 2
}
