{
 "cells": [
  {
   "cell_type": "markdown",
   "metadata": {},
   "source": [
    "# Inductor Shit\n",
    "---------------"
   ]
  },
  {
   "cell_type": "markdown",
   "metadata": {},
   "source": [
    "The following method is the theoretical process for determining the unknowns needed to build an\n",
    "inductor.\n",
    "1. Initially a fill factor for the window area above “kfill” must be chosen in the range: 0.01 to\n",
    "0.8. This is the ratio of copper area to the window area.\n",
    "2. The Number of turns can be determined by considering the cross sectional area of the\n",
    "wire and the proportion (kfill) of the window area occupied by copper:\n",
    "𝑁 =\n",
    "𝐴𝑟𝑒𝑎 𝑜𝑓 𝑤𝑖𝑛𝑑𝑜𝑤 ∗ 𝑘𝑓𝑖𝑙𝑙  /\n",
    "𝐶𝑟𝑜𝑠𝑠 𝑠𝑒𝑐𝑡𝑖𝑜𝑛𝑎𝑙 𝐴𝑟𝑒𝑎 𝑜𝑓 𝑡ℎ𝑒 𝑤𝑖𝑟𝑒\n",
    "3. Decide on the operating flux density for your inductor by considering the magnetization\n",
    "curve of the material.\n",
    "4. Determine the airgap length by considering the MMF’s around the loop of your magnetic\n",
    "equivalent circuit.\n",
    "5. Find the total flux in the core by using alternate definitions for flux linkage of the coil:\n",
    "𝜆 = 𝑁∅ = 𝐿𝑖\n",
    "6. From the flux the cross section area of the core can be calculated in order to calculate\n",
    "depth and finally the number of laminations needed:\n",
    "𝐸𝑓𝑓𝑒𝑐𝑡𝑖𝑣𝑒 𝐶𝑟𝑜𝑠𝑠 𝑠𝑒𝑐𝑡𝑖𝑜𝑛𝑎𝑙 𝐴𝑟𝑒𝑎 𝑜𝑓 𝐶𝑜𝑟𝑒 =\n",
    "∅\n",
    "𝐵\n",
    "Note: The area above is the effective area of the ferromagnetic material required. This\n",
    "differs from the actual core area below, by the stacking factor.\n",
    "7. The actual depth of the core can be calculated based on the actual core area and width.\n",
    "8. The number of laminations can now be calculated on the basis of the lamination\n",
    "thickness and actual core depth.\n",
    "𝑁𝑜. 𝐿𝑎𝑚𝑖𝑛𝑎𝑡𝑖𝑜𝑛𝑠 =\n",
    "𝐷𝑒𝑝𝑡ℎ\n",
    "𝑇ℎ𝑖𝑐𝑘𝑛𝑒𝑠𝑠 𝑜𝑓 𝐿𝑎𝑚𝑖𝑛𝑎𝑡𝑖𝑜𝑛𝑠\n",
    "9. There are infinite permutations of the parameters for the design. Please consider the\n",
    "practicality of your design. i.e. 100000 turns or 30 laminations just won’t work! It is\n",
    "recommended to use excel or Matlab to run through several design iterations using the\n",
    "step outlined above."
   ]
  },
  {
   "cell_type": "code",
   "execution_count": 1,
   "metadata": {
    "collapsed": true
   },
   "outputs": [],
   "source": [
    "import numpy as np\n",
    "import pandas as pd"
   ]
  },
  {
   "cell_type": "code",
   "execution_count": 2,
   "metadata": {
    "collapsed": false
   },
   "outputs": [],
   "source": [
    "kfill = np.linspace(0.01,0.8,100)\n",
    "area_of_window = (9.5/1000)*(28/1000)\n",
    "area_of_wire = np.pi*(0.45/2000)**2\n",
    "n_turns = np.divide(np.multiply(area_of_window,kfill),area_of_wire)"
   ]
  },
  {
   "cell_type": "code",
   "execution_count": 3,
   "metadata": {
    "collapsed": false
   },
   "outputs": [
    {
     "data": {
      "text/plain": [
       "array([   16.72502316,    30.07125375,    43.41748435,    56.76371495,\n",
       "          70.10994555,    83.45617615,    96.80240675,   110.14863735,\n",
       "         123.49486795,   136.84109855,   150.18732914,   163.53355974,\n",
       "         176.87979034,   190.22602094,   203.57225154,   216.91848214,\n",
       "         230.26471274,   243.61094334,   256.95717394,   270.30340453,\n",
       "         283.64963513,   296.99586573,   310.34209633,   323.68832693,\n",
       "         337.03455753,   350.38078813,   363.72701873,   377.07324932,\n",
       "         390.41947992,   403.76571052,   417.11194112,   430.45817172,\n",
       "         443.80440232,   457.15063292,   470.49686352,   483.84309412,\n",
       "         497.18932471,   510.53555531,   523.88178591,   537.22801651,\n",
       "         550.57424711,   563.92047771,   577.26670831,   590.61293891,\n",
       "         603.95916951,   617.3054001 ,   630.6516307 ,   643.9978613 ,\n",
       "         657.3440919 ,   670.6903225 ,   684.0365531 ,   697.3827837 ,\n",
       "         710.7290143 ,   724.0752449 ,   737.42147549,   750.76770609,\n",
       "         764.11393669,   777.46016729,   790.80639789,   804.15262849,\n",
       "         817.49885909,   830.84508969,   844.19132028,   857.53755088,\n",
       "         870.88378148,   884.23001208,   897.57624268,   910.92247328,\n",
       "         924.26870388,   937.61493448,   950.96116508,   964.30739567,\n",
       "         977.65362627,   990.99985687,  1004.34608747,  1017.69231807,\n",
       "        1031.03854867,  1044.38477927,  1057.73100987,  1071.07724047,\n",
       "        1084.42347106,  1097.76970166,  1111.11593226,  1124.46216286,\n",
       "        1137.80839346,  1151.15462406,  1164.50085466,  1177.84708526,\n",
       "        1191.19331586,  1204.53954645,  1217.88577705,  1231.23200765,\n",
       "        1244.57823825,  1257.92446885,  1271.27069945,  1284.61693005,\n",
       "        1297.96316065,  1311.30939124,  1324.65562184,  1338.00185244])"
      ]
     },
     "execution_count": 3,
     "metadata": {},
     "output_type": "execute_result"
    }
   ],
   "source": [
    "n_turns"
   ]
  },
  {
   "cell_type": "code",
   "execution_count": 4,
   "metadata": {
    "collapsed": false
   },
   "outputs": [
    {
     "name": "stderr",
     "output_type": "stream",
     "text": [
      "C:\\Users\\Tom\\Anaconda3\\lib\\site-packages\\ipykernel\\__main__.py:1: DeprecationWarning: object of type <class 'float'> cannot be safely interpreted as an integer.\n",
      "  if __name__ == '__main__':\n"
     ]
    }
   ],
   "source": [
    "flux_density = np.linspace(0.02,1.0,0.02)\n",
    "bh_curve = pd.read_csv(\"bhcurve.csv\")"
   ]
  },
  {
   "cell_type": "code",
   "execution_count": 17,
   "metadata": {
    "collapsed": false
   },
   "outputs": [],
   "source": [
    "b_values = [0.7]#bh_curve['B'].values\n",
    "h_values = [105] #bh_curve['H'].values"
   ]
  },
  {
   "cell_type": "code",
   "execution_count": 18,
   "metadata": {
    "collapsed": false
   },
   "outputs": [],
   "source": [
    "mew = np.divide(b_values,h_values)"
   ]
  },
  {
   "cell_type": "code",
   "execution_count": 19,
   "metadata": {
    "collapsed": false
   },
   "outputs": [],
   "source": [
    "i = 1\n",
    "mmf = np.multiply(n_turns,i)"
   ]
  },
  {
   "cell_type": "code",
   "execution_count": 20,
   "metadata": {
    "collapsed": false
   },
   "outputs": [
    {
     "data": {
      "text/plain": [
       "array([[  6.93398535e-05],\n",
       "       [  3.08930825e-04],\n",
       "       [  5.48521796e-04],\n",
       "       [  7.88112768e-04],\n",
       "       [  1.02770374e-03],\n",
       "       [  1.26729471e-03],\n",
       "       [  1.50688568e-03],\n",
       "       [  1.74647665e-03],\n",
       "       [  1.98606763e-03],\n",
       "       [  2.22565860e-03],\n",
       "       [  2.46524957e-03],\n",
       "       [  2.70484054e-03],\n",
       "       [  2.94443151e-03],\n",
       "       [  3.18402248e-03],\n",
       "       [  3.42361345e-03],\n",
       "       [  3.66320443e-03],\n",
       "       [  3.90279540e-03],\n",
       "       [  4.14238637e-03],\n",
       "       [  4.38197734e-03],\n",
       "       [  4.62156831e-03],\n",
       "       [  4.86115928e-03],\n",
       "       [  5.10075025e-03],\n",
       "       [  5.34034123e-03],\n",
       "       [  5.57993220e-03],\n",
       "       [  5.81952317e-03],\n",
       "       [  6.05911414e-03],\n",
       "       [  6.29870511e-03],\n",
       "       [  6.53829608e-03],\n",
       "       [  6.77788705e-03],\n",
       "       [  7.01747803e-03],\n",
       "       [  7.25706900e-03],\n",
       "       [  7.49665997e-03],\n",
       "       [  7.73625094e-03],\n",
       "       [  7.97584191e-03],\n",
       "       [  8.21543288e-03],\n",
       "       [  8.45502385e-03],\n",
       "       [  8.69461483e-03],\n",
       "       [  8.93420580e-03],\n",
       "       [  9.17379677e-03],\n",
       "       [  9.41338774e-03],\n",
       "       [  9.65297871e-03],\n",
       "       [  9.89256968e-03],\n",
       "       [  1.01321607e-02],\n",
       "       [  1.03717516e-02],\n",
       "       [  1.06113426e-02],\n",
       "       [  1.08509336e-02],\n",
       "       [  1.10905245e-02],\n",
       "       [  1.13301155e-02],\n",
       "       [  1.15697065e-02],\n",
       "       [  1.18092975e-02],\n",
       "       [  1.20488884e-02],\n",
       "       [  1.22884794e-02],\n",
       "       [  1.25280704e-02],\n",
       "       [  1.27676613e-02],\n",
       "       [  1.30072523e-02],\n",
       "       [  1.32468433e-02],\n",
       "       [  1.34864343e-02],\n",
       "       [  1.37260252e-02],\n",
       "       [  1.39656162e-02],\n",
       "       [  1.42052072e-02],\n",
       "       [  1.44447981e-02],\n",
       "       [  1.46843891e-02],\n",
       "       [  1.49239801e-02],\n",
       "       [  1.51635711e-02],\n",
       "       [  1.54031620e-02],\n",
       "       [  1.56427530e-02],\n",
       "       [  1.58823440e-02],\n",
       "       [  1.61219349e-02],\n",
       "       [  1.63615259e-02],\n",
       "       [  1.66011169e-02],\n",
       "       [  1.68407079e-02],\n",
       "       [  1.70802988e-02],\n",
       "       [  1.73198898e-02],\n",
       "       [  1.75594808e-02],\n",
       "       [  1.77990717e-02],\n",
       "       [  1.80386627e-02],\n",
       "       [  1.82782537e-02],\n",
       "       [  1.85178447e-02],\n",
       "       [  1.87574356e-02],\n",
       "       [  1.89970266e-02],\n",
       "       [  1.92366176e-02],\n",
       "       [  1.94762085e-02],\n",
       "       [  1.97157995e-02],\n",
       "       [  1.99553905e-02],\n",
       "       [  2.01949815e-02],\n",
       "       [  2.04345724e-02],\n",
       "       [  2.06741634e-02],\n",
       "       [  2.09137544e-02],\n",
       "       [  2.11533453e-02],\n",
       "       [  2.13929363e-02],\n",
       "       [  2.16325273e-02],\n",
       "       [  2.18721183e-02],\n",
       "       [  2.21117092e-02],\n",
       "       [  2.23513002e-02],\n",
       "       [  2.25908912e-02],\n",
       "       [  2.28304821e-02],\n",
       "       [  2.30700731e-02],\n",
       "       [  2.33096641e-02],\n",
       "       [  2.35492551e-02],\n",
       "       [  2.37888460e-02]])"
      ]
     },
     "execution_count": 20,
     "metadata": {},
     "output_type": "execute_result"
    }
   ],
   "source": [
    "len_of_core = 122.5/1000\n",
    "l_gap = []\n",
    "\n",
    "r1 = np.divide(4*np.pi*10e-7*len_of_core,mew) #lc*u0/uc\n",
    "t = np.divide(4*np.pi*10e-7*1,b_values) #u0*i/b\n",
    "r2 = []\n",
    "for n in n_turns:\n",
    "    r2.append(np.multiply(t,n)) #u0*N*I/b\n",
    "\n",
    "\n",
    "l_gap = np.subtract(r2,r1)\n",
    "    \n",
    "l_gap"
   ]
  },
  {
   "cell_type": "code",
   "execution_count": 21,
   "metadata": {
    "collapsed": false
   },
   "outputs": [
    {
     "name": "stdout",
     "output_type": "stream",
     "text": [
      "100\n"
     ]
    }
   ],
   "source": [
    "inductance = 5.5/(60*2*np.pi)\n",
    "flux = np.divide(inductance*1,n_turns)\n",
    "print(len(flux))\n",
    "eff_x_area_core = []\n",
    "for f in flux:\n",
    "    eff_x_area_core.append(np.divide(f,b_values))"
   ]
  },
  {
   "cell_type": "code",
   "execution_count": 22,
   "metadata": {
    "collapsed": true
   },
   "outputs": [],
   "source": [
    "depth = []\n",
    "for area in eff_x_area_core:\n",
    "    depth.append(np.divide(area,9.5/1000))"
   ]
  },
  {
   "cell_type": "code",
   "execution_count": 23,
   "metadata": {
    "collapsed": true
   },
   "outputs": [],
   "source": [
    "num_lamin = []\n",
    "for a_depth in depth:\n",
    "    num_lamin.append(np.divide(a_depth,0.5/1000))"
   ]
  },
  {
   "cell_type": "code",
   "execution_count": 24,
   "metadata": {
    "collapsed": false
   },
   "outputs": [
    {
     "name": "stdout",
     "output_type": "stream",
     "text": [
      "min(lamin) = 262.345242806 ; turns =  16.7250231555\n",
      "min(lamin) = 145.91111819 ; turns =  30.0712537544\n",
      "min(lamin) = 101.059062404 ; turns =  43.4174843533\n",
      "min(lamin) = 77.2981518983 ; turns =  56.7637149521\n",
      "min(lamin) = 62.5835639466 ; turns =  70.109945551\n",
      "min(lamin) = 52.5752612102 ; turns =  83.4561761498\n",
      "min(lamin) = 45.3266649875 ; turns =  96.8024067487\n",
      "min(lamin) = 39.8346304261 ; turns =  110.148637348\n",
      "min(lamin) = 35.5296566865 ; turns =  123.494867946\n",
      "min(lamin) = 32.0644185652 ; turns =  136.841098545\n",
      "min(lamin) = 29.2150495364 ; turns =  150.187329144\n",
      "min(lamin) = 26.8307634688 ; turns =  163.533559743\n",
      "min(lamin) = 24.8062837037 ; turns =  176.879790342\n",
      "min(lamin) = 23.065878364 ; turns =  190.226020941\n",
      "min(lamin) = 21.5536755501 ; turns =  203.57225154\n",
      "min(lamin) = 20.2275537678 ; turns =  216.918482138\n",
      "min(lamin) = 19.0551570344 ; turns =  230.264712737\n",
      "min(lamin) = 18.0112198598 ; turns =  243.610943336\n",
      "min(lamin) = 17.0757258631 ; turns =  256.957173935\n",
      "min(lamin) = 16.2326118986 ; turns =  270.303404534\n",
      "min(lamin) = 15.4688380213 ; turns =  283.649635133\n",
      "min(lamin) = 14.7737082126 ; turns =  296.995865732\n",
      "min(lamin) = 14.1383663788 ; turns =  310.34209633\n",
      "min(lamin) = 13.5554170344 ; turns =  323.688326929\n",
      "min(lamin) = 13.0186361092 ; turns =  337.034557528\n",
      "min(lamin) = 12.5227478485 ; turns =  350.380788127\n",
      "min(lamin) = 12.0632508304 ; turns =  363.727018726\n",
      "min(lamin) = 11.6362809309 ; turns =  377.073249325\n",
      "min(lamin) = 11.2385023963 ; turns =  390.419479924\n",
      "min(lamin) = 10.8670205179 ; turns =  403.765710522\n",
      "min(lamin) = 10.5193110724 ; turns =  417.111941121\n",
      "min(lamin) = 10.1931628877 ; turns =  430.45817172\n",
      "min(lamin) = 9.88663077191 ; turns =  443.804402319\n",
      "min(lamin) = 9.59799668803 ; turns =  457.150632918\n",
      "min(lamin) = 9.32573753602 ; turns =  470.496863517\n",
      "min(lamin) = 9.0684982674 ; turns =  483.843094116\n",
      "min(lamin) = 8.82506932987 ; turns =  497.189324714\n",
      "min(lamin) = 8.59436764984 ; turns =  510.535555313\n",
      "min(lamin) = 8.37542052171 ; turns =  523.881785912\n",
      "min(lamin) = 8.16735189869 ; turns =  537.228016511\n",
      "min(lamin) = 7.96937067745 ; turns =  550.57424711\n",
      "min(lamin) = 7.78076064644 ; turns =  563.920477709\n",
      "min(lamin) = 7.60087182845 ; turns =  577.266708308\n",
      "min(lamin) = 7.42911299709 ; turns =  590.612938907\n",
      "min(lamin) = 7.2649451854 ; turns =  603.959169505\n",
      "min(lamin) = 7.10787603662 ; turns =  617.305400104\n",
      "min(lamin) = 6.95745487217 ; turns =  630.651630703\n",
      "min(lamin) = 6.81326837299 ; turns =  643.997861302\n",
      "min(lamin) = 6.6749367869 ; turns =  657.344091901\n",
      "min(lamin) = 6.54211058887 ; turns =  670.6903225\n",
      "min(lamin) = 6.41446753219 ; turns =  684.036553099\n",
      "min(lamin) = 6.29171003823 ; turns =  697.382783697\n",
      "min(lamin) = 6.17356288039 ; turns =  710.729014296\n",
      "min(lamin) = 6.05977112408 ; turns =  724.075244895\n",
      "min(lamin) = 5.95009829045 ; turns =  737.421475494\n",
      "min(lamin) = 5.84432471598 ; turns =  750.767706093\n",
      "min(lamin) = 5.74224608398 ; turns =  764.113936692\n",
      "min(lamin) = 5.64367210731 ; turns =  777.460167291\n",
      "min(lamin) = 5.54842534455 ; turns =  790.806397889\n",
      "min(lamin) = 5.456340134 ; turns =  804.152628488\n",
      "min(lamin) = 5.36726163212 ; turns =  817.498859087\n",
      "min(lamin) = 5.28104494466 ; turns =  830.845089686\n",
      "min(lamin) = 5.19755434017 ; turns =  844.191320285\n",
      "min(lamin) = 5.116662537 ; turns =  857.537550884\n",
      "min(lamin) = 5.03825005583 ; turns =  870.883781483\n",
      "min(lamin) = 4.96220463084 ; turns =  884.230012081\n",
      "min(lamin) = 4.88842067341 ; turns =  897.57624268\n",
      "min(lamin) = 4.81679878298 ; turns =  910.922473279\n",
      "min(lamin) = 4.74724530028 ; turns =  924.268703878\n",
      "min(lamin) = 4.67967189871 ; turns =  937.614934477\n",
      "min(lamin) = 4.61399521013 ; turns =  950.961165076\n",
      "min(lamin) = 4.55013648175 ; turns =  964.307395675\n",
      "min(lamin) = 4.48802126107 ; turns =  977.653626273\n",
      "min(lamin) = 4.42757910635 ; turns =  990.999856872\n",
      "min(lamin) = 4.36874332007 ; turns =  1004.34608747\n",
      "min(lamin) = 4.31145070349 ; turns =  1017.69231807\n",
      "min(lamin) = 4.25564133014 ; turns =  1031.03854867\n",
      "min(lamin) = 4.20125833676 ; turns =  1044.38477927\n",
      "min(lamin) = 4.14824773005 ; turns =  1057.73100987\n",
      "min(lamin) = 4.09655820786 ; turns =  1071.07724047\n",
      "min(lamin) = 4.04614099358 ; turns =  1084.42347106\n",
      "min(lamin) = 3.99694968264 ; turns =  1097.76970166\n",
      "min(lamin) = 3.94894010002 ; turns =  1111.11593226\n",
      "min(lamin) = 3.90207016794 ; turns =  1124.46216286\n",
      "min(lamin) = 3.8562997829 ; turns =  1137.80839346\n",
      "min(lamin) = 3.81159070118 ; turns =  1151.15462406\n",
      "min(lamin) = 3.7679064323 ; turns =  1164.50085466\n",
      "min(lamin) = 3.72521213968 ; turns =  1177.84708526\n",
      "min(lamin) = 3.68347454798 ; turns =  1191.19331586\n",
      "min(lamin) = 3.64266185664 ; turns =  1204.53954645\n",
      "min(lamin) = 3.60274365901 ; turns =  1217.88577705\n",
      "min(lamin) = 3.56369086688 ; turns =  1231.23200765\n",
      "min(lamin) = 3.52547563972 ; turns =  1244.57823825\n",
      "min(lamin) = 3.48807131854 ; turns =  1257.92446885\n",
      "min(lamin) = 3.45145236383 ; turns =  1271.27069945\n",
      "min(lamin) = 3.41559429745 ; turns =  1284.61693005\n",
      "min(lamin) = 3.38047364803 ; turns =  1297.96316065\n",
      "min(lamin) = 3.34606789974 ; turns =  1311.30939124\n",
      "min(lamin) = 3.31235544418 ; turns =  1324.65562184\n",
      "min(lamin) = 3.27931553508 ; turns =  1338.00185244\n",
      "Optimal result of turns (maybe)= 16.7250231555 with gap length =\n"
     ]
    }
   ],
   "source": [
    "results = []\n",
    "for i in range(len(num_lamin)):\n",
    "    print(\"min(lamin) =\",min(num_lamin[i]),\"; turns = \",n_turns[i])\n",
    "    results.append((min(num_lamin[i]))*(n_turns[i]))\n",
    "\n",
    "test = results.index(min(results))\n",
    "print(\"Optimal result of turns (maybe)=\", n_turns[test], \"with gap length =\") #min(np.abs(l_gap[test])),\"B =\",\n",
    "      #b_values[l_gap[test].tolist().index(min(np.abs(l_gap[test])))])"
   ]
  },
  {
   "cell_type": "markdown",
   "metadata": {},
   "source": [
    "### When I didn't know what I was doing..."
   ]
  },
  {
   "cell_type": "code",
   "execution_count": 13,
   "metadata": {
    "collapsed": false
   },
   "outputs": [
    {
     "data": {
      "text/plain": [
       "100"
      ]
     },
     "execution_count": 13,
     "metadata": {},
     "output_type": "execute_result"
    }
   ],
   "source": [
    "len_of_core = 122.5/1000\n",
    "depth = np.divide(np.linspace(0.5,50,100),1000) #0.5mm ->5cm\n",
    "x_area_core = np.multiply((9.5/1000),depth)\n",
    "#x_area_core = (9.5/1000)*(20/1000) #np.multiply((9.5/1000),depth)\n",
    "len(x_area_core)"
   ]
  },
  {
   "cell_type": "code",
   "execution_count": 14,
   "metadata": {
    "collapsed": false
   },
   "outputs": [],
   "source": [
    "flux = []\n",
    "for x_area in x_area_core:\n",
    "    flux.append(np.multiply(b_values,x_area))\n",
    "# flux = np.multiply(b_values,x_area_core)\n",
    "#len(mmf) = 100\n",
    "#len(flux) = 100\n",
    "# flux = 2D array 100,61\n",
    "len(flux)\n",
    "\n",
    "\n",
    "# The 2D flux array has all the flux values for a different \n",
    "# cross sectional area at each element. Each element of these arrays \n",
    "# is then divided from each mmf to find the total reluctance for \n",
    "# each cross sectional area for all possible values along the b-h curve.\n",
    "# This reslts in a 3D array holding values for every area, every b values\n",
    "# and every mmf.\n",
    "\n",
    "i = 0\n",
    "j = 0\n",
    "total_r = [[] for i in range(len(x_area_core))]\n",
    "for an_area in flux:\n",
    "    #total_r[j].append([])\n",
    "    for a_flux in an_area:\n",
    "        #print(\"i:\",i,\"j\",j)\n",
    "        #print(\"total_r[j]:\",len(total_r[j]),\"total_r:\",len(total_r))\n",
    "        total_r[j].append(np.divide(mmf,a_flux)) #using one flux val for now     flux[j][i]\n",
    "        i+=1\n",
    "    j+=1\n",
    "    i=0"
   ]
  },
  {
   "cell_type": "code",
   "execution_count": 15,
   "metadata": {
    "collapsed": false
   },
   "outputs": [
    {
     "ename": "IndexError",
     "evalue": "list index out of range",
     "output_type": "error",
     "traceback": [
      "\u001b[0;31m---------------------------------------------------------------------------\u001b[0m",
      "\u001b[0;31mIndexError\u001b[0m                                Traceback (most recent call last)",
      "\u001b[0;32m<ipython-input-15-013f93e116d4>\u001b[0m in \u001b[0;36m<module>\u001b[0;34m()\u001b[0m\n\u001b[0;32m----> 1\u001b[0;31m \u001b[0mprint\u001b[0m\u001b[1;33m(\u001b[0m\u001b[1;34m\"total_r[j]:\"\u001b[0m\u001b[1;33m,\u001b[0m\u001b[0mlen\u001b[0m\u001b[1;33m(\u001b[0m\u001b[0mtotal_r\u001b[0m\u001b[1;33m[\u001b[0m\u001b[1;36m0\u001b[0m\u001b[1;33m]\u001b[0m\u001b[1;33m)\u001b[0m\u001b[1;33m,\u001b[0m\u001b[1;34m\"total_r:\"\u001b[0m\u001b[1;33m,\u001b[0m\u001b[0mlen\u001b[0m\u001b[1;33m(\u001b[0m\u001b[0mtotal_r\u001b[0m\u001b[1;33m)\u001b[0m\u001b[1;33m,\u001b[0m\u001b[1;34m\"el:\"\u001b[0m\u001b[1;33m,\u001b[0m\u001b[0mlen\u001b[0m\u001b[1;33m(\u001b[0m\u001b[0mtotal_r\u001b[0m\u001b[1;33m[\u001b[0m\u001b[1;36m0\u001b[0m\u001b[1;33m]\u001b[0m\u001b[1;33m[\u001b[0m\u001b[1;36m1\u001b[0m\u001b[1;33m]\u001b[0m\u001b[1;33m)\u001b[0m\u001b[1;33m)\u001b[0m\u001b[1;33m\u001b[0m\u001b[0m\n\u001b[0m\u001b[1;32m      2\u001b[0m \u001b[1;31m#print(total_r[0:10][0:3][:])\u001b[0m\u001b[1;33m\u001b[0m\u001b[1;33m\u001b[0m\u001b[0m\n",
      "\u001b[0;31mIndexError\u001b[0m: list index out of range"
     ]
    }
   ],
   "source": [
    "print(\"total_r[j]:\",len(total_r[0]),\"total_r:\",len(total_r),\"el:\",len(total_r[0][1]))\n",
    "#print(total_r[0:10][0:3][:])"
   ]
  },
  {
   "cell_type": "code",
   "execution_count": null,
   "metadata": {
    "collapsed": false
   },
   "outputs": [],
   "source": [
    "r_gap =[[] for i in range(len(x_area_core))]\n",
    "\n",
    "i = 0\n",
    "j = 0\n",
    "for an_area in flux:\n",
    "    for a_flux in an_area:\n",
    "        r_gap[j].append(np.subtract(total_r[i][j],(len_of_core)/(mew[i]*x_area_core[j])))\n",
    "        i+=1\n",
    "    j+=1\n",
    "    \n",
    "#l_gap = r_gap*4*np.pi*10e-7*x_area_core\n",
    "# l_gap"
   ]
  }
 ],
 "metadata": {
  "anaconda-cloud": {},
  "kernelspec": {
   "display_name": "Python [conda root]",
   "language": "python",
   "name": "conda-root-py"
  },
  "language_info": {
   "codemirror_mode": {
    "name": "ipython",
    "version": 3
   },
   "file_extension": ".py",
   "mimetype": "text/x-python",
   "name": "python",
   "nbconvert_exporter": "python",
   "pygments_lexer": "ipython3",
   "version": "3.5.2"
  }
 },
 "nbformat": 4,
 "nbformat_minor": 2
}
