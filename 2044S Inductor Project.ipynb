{
 "cells": [
  {
   "cell_type": "markdown",
   "metadata": {},
   "source": [
    "# Inductor Project\n",
    "---------------"
   ]
  },
  {
   "cell_type": "markdown",
   "metadata": {},
   "source": [
    "The following method is the theoretical process for determining the unknowns needed to build an\n",
    "inductor.\n",
    "1. Initially a fill factor for the window area above “kfill” must be chosen in the range: 0.01 to\n",
    "0.8. This is the ratio of copper area to the window area.\n",
    "2. The Number of turns can be determined by considering the cross sectional area of the\n",
    "wire and the proportion (kfill) of the window area occupied by copper:\n",
    "𝑁 =\n",
    "𝐴𝑟𝑒𝑎 𝑜𝑓 𝑤𝑖𝑛𝑑𝑜𝑤 ∗ 𝑘𝑓𝑖𝑙𝑙  /\n",
    "𝐶𝑟𝑜𝑠𝑠 𝑠𝑒𝑐𝑡𝑖𝑜𝑛𝑎𝑙 𝐴𝑟𝑒𝑎 𝑜𝑓 𝑡ℎ𝑒 𝑤𝑖𝑟𝑒\n",
    "3. Decide on the operating flux density for your inductor by considering the magnetization\n",
    "curve of the material.\n",
    "4. Determine the airgap length by considering the MMF’s around the loop of your magnetic\n",
    "equivalent circuit.\n",
    "5. Find the total flux in the core by using alternate definitions for flux linkage of the coil:\n",
    "𝜆 = 𝑁∅ = 𝐿𝑖\n",
    "6. From the flux the cross section area of the core can be calculated in order to calculate\n",
    "depth and finally the number of laminations needed:\n",
    "𝐸𝑓𝑓𝑒𝑐𝑡𝑖𝑣𝑒 𝐶𝑟𝑜𝑠𝑠 𝑠𝑒𝑐𝑡𝑖𝑜𝑛𝑎𝑙 𝐴𝑟𝑒𝑎 𝑜𝑓 𝐶𝑜𝑟𝑒 =\n",
    "∅\n",
    "𝐵\n",
    "Note: The area above is the effective area of the ferromagnetic material required. This\n",
    "differs from the actual core area below, by the stacking factor.\n",
    "7. The actual depth of the core can be calculated based on the actual core area and width.\n",
    "8. The number of laminations can now be calculated on the basis of the lamination\n",
    "thickness and actual core depth.\n",
    "𝑁𝑜. 𝐿𝑎𝑚𝑖𝑛𝑎𝑡𝑖𝑜𝑛𝑠 =\n",
    "𝐷𝑒𝑝𝑡ℎ\n",
    "𝑇ℎ𝑖𝑐𝑘𝑛𝑒𝑠𝑠 𝑜𝑓 𝐿𝑎𝑚𝑖𝑛𝑎𝑡𝑖𝑜𝑛𝑠\n",
    "9. There are infinite permutations of the parameters for the design. Please consider the\n",
    "practicality of your design. i.e. 100000 turns or 30 laminations just won’t work! It is\n",
    "recommended to use excel or Matlab to run through several design iterations using the\n",
    "step outlined above."
   ]
  },
  {
   "cell_type": "code",
   "execution_count": 26,
   "metadata": {
    "collapsed": false
   },
   "outputs": [],
   "source": [
    "import numpy as np\n",
    "import pandas as pd\n",
    "import matplotlib.pyplot as plt"
   ]
  },
  {
   "cell_type": "code",
   "execution_count": 27,
   "metadata": {
    "collapsed": false
   },
   "outputs": [],
   "source": [
    "kfill = np.linspace(0.01,0.8,100)\n",
    "area_of_window = (9.5/1000)*(28/1000)\n",
    "area_of_wire = np.pi*(0.45/2000)**2\n",
    "n_turns = np.divide(np.multiply(area_of_window,kfill),area_of_wire)"
   ]
  },
  {
   "cell_type": "code",
   "execution_count": 28,
   "metadata": {
    "collapsed": false
   },
   "outputs": [
    {
     "data": {
      "text/plain": [
       "array([   16.72502316,    30.07125375,    43.41748435,    56.76371495,\n",
       "          70.10994555,    83.45617615,    96.80240675,   110.14863735,\n",
       "         123.49486795,   136.84109855,   150.18732914,   163.53355974,\n",
       "         176.87979034,   190.22602094,   203.57225154,   216.91848214,\n",
       "         230.26471274,   243.61094334,   256.95717394,   270.30340453,\n",
       "         283.64963513,   296.99586573,   310.34209633,   323.68832693,\n",
       "         337.03455753,   350.38078813,   363.72701873,   377.07324932,\n",
       "         390.41947992,   403.76571052,   417.11194112,   430.45817172,\n",
       "         443.80440232,   457.15063292,   470.49686352,   483.84309412,\n",
       "         497.18932471,   510.53555531,   523.88178591,   537.22801651,\n",
       "         550.57424711,   563.92047771,   577.26670831,   590.61293891,\n",
       "         603.95916951,   617.3054001 ,   630.6516307 ,   643.9978613 ,\n",
       "         657.3440919 ,   670.6903225 ,   684.0365531 ,   697.3827837 ,\n",
       "         710.7290143 ,   724.0752449 ,   737.42147549,   750.76770609,\n",
       "         764.11393669,   777.46016729,   790.80639789,   804.15262849,\n",
       "         817.49885909,   830.84508969,   844.19132028,   857.53755088,\n",
       "         870.88378148,   884.23001208,   897.57624268,   910.92247328,\n",
       "         924.26870388,   937.61493448,   950.96116508,   964.30739567,\n",
       "         977.65362627,   990.99985687,  1004.34608747,  1017.69231807,\n",
       "        1031.03854867,  1044.38477927,  1057.73100987,  1071.07724047,\n",
       "        1084.42347106,  1097.76970166,  1111.11593226,  1124.46216286,\n",
       "        1137.80839346,  1151.15462406,  1164.50085466,  1177.84708526,\n",
       "        1191.19331586,  1204.53954645,  1217.88577705,  1231.23200765,\n",
       "        1244.57823825,  1257.92446885,  1271.27069945,  1284.61693005,\n",
       "        1297.96316065,  1311.30939124,  1324.65562184,  1338.00185244])"
      ]
     },
     "execution_count": 28,
     "metadata": {},
     "output_type": "execute_result"
    }
   ],
   "source": [
    "n_turns"
   ]
  },
  {
   "cell_type": "code",
   "execution_count": 49,
   "metadata": {
    "collapsed": false
   },
   "outputs": [],
   "source": [
    "bh_curve = pd.read_csv(\"bhcurve.csv\")"
   ]
  },
  {
   "cell_type": "code",
   "execution_count": 50,
   "metadata": {
    "collapsed": false
   },
   "outputs": [
    {
     "data": {
      "image/png": "[encoded data removed]",
      "text/plain": [
       "<matplotlib.figure.Figure at 0x2613ef849e8>"
      ]
     },
     "metadata": {},
     "output_type": "display_data"
    }
   ],
   "source": [
    "b_values = bh_curve['B'].values\n",
    "h_values = bh_curve['H'].values\n",
    "fig = plt.figure()\n",
    "ax = fig.add_subplot(111)\n",
    "ax.set_xscale('log')\n",
    "ax.plot(h_values,b_values)\n",
    "plt.show()"
   ]
  },
  {
   "cell_type": "code",
   "execution_count": 72,
   "metadata": {
    "collapsed": false
   },
   "outputs": [],
   "source": [
    "#choosing B to be 0.7 because the response is linear around it\n",
    "b = 0.8\n",
    "h = 105\n",
    "mew = np.divide(b,h)"
   ]
  },
  {
   "cell_type": "code",
   "execution_count": 73,
   "metadata": {
    "collapsed": false
   },
   "outputs": [],
   "source": [
    "i = 1\n",
    "mmf = np.multiply(n_turns,i)"
   ]
  },
  {
   "cell_type": "code",
   "execution_count": 78,
   "metadata": {
    "collapsed": false
   },
   "outputs": [
    {
     "data": {
      "text/plain": [
       "array([  6.06723718e-06,   2.70314472e-05,   4.79956572e-05,\n",
       "         6.89598672e-05,   8.99240772e-05,   1.10888287e-04,\n",
       "         1.31852497e-04,   1.52816707e-04,   1.73780917e-04,\n",
       "         1.94745127e-04,   2.15709337e-04,   2.36673547e-04,\n",
       "         2.57637757e-04,   2.78601967e-04,   2.99566177e-04,\n",
       "         3.20530387e-04,   3.41494597e-04,   3.62458807e-04,\n",
       "         3.83423017e-04,   4.04387227e-04,   4.25351437e-04,\n",
       "         4.46315647e-04,   4.67279857e-04,   4.88244067e-04,\n",
       "         5.09208277e-04,   5.30172487e-04,   5.51136697e-04,\n",
       "         5.72100907e-04,   5.93065117e-04,   6.14029327e-04,\n",
       "         6.34993537e-04,   6.55957747e-04,   6.76921957e-04,\n",
       "         6.97886167e-04,   7.18850377e-04,   7.39814587e-04,\n",
       "         7.60778797e-04,   7.81743007e-04,   8.02707217e-04,\n",
       "         8.23671427e-04,   8.44635637e-04,   8.65599847e-04,\n",
       "         8.86564057e-04,   9.07528267e-04,   9.28492477e-04,\n",
       "         9.49456687e-04,   9.70420897e-04,   9.91385107e-04,\n",
       "         1.01234932e-03,   1.03331353e-03,   1.05427774e-03,\n",
       "         1.07524195e-03,   1.09620616e-03,   1.11717037e-03,\n",
       "         1.13813458e-03,   1.15909879e-03,   1.18006300e-03,\n",
       "         1.20102721e-03,   1.22199142e-03,   1.24295563e-03,\n",
       "         1.26391984e-03,   1.28488405e-03,   1.30584826e-03,\n",
       "         1.32681247e-03,   1.34777668e-03,   1.36874089e-03,\n",
       "         1.38970510e-03,   1.41066931e-03,   1.43163352e-03,\n",
       "         1.45259773e-03,   1.47356194e-03,   1.49452615e-03,\n",
       "         1.51549036e-03,   1.53645457e-03,   1.55741878e-03,\n",
       "         1.57838299e-03,   1.59934720e-03,   1.62031141e-03,\n",
       "         1.64127562e-03,   1.66223983e-03,   1.68320404e-03,\n",
       "         1.70416825e-03,   1.72513246e-03,   1.74609667e-03,\n",
       "         1.76706088e-03,   1.78802509e-03,   1.80898930e-03,\n",
       "         1.82995351e-03,   1.85091772e-03,   1.87188193e-03,\n",
       "         1.89284614e-03,   1.91381035e-03,   1.93477456e-03,\n",
       "         1.95573877e-03,   1.97670298e-03,   1.99766719e-03,\n",
       "         2.01863140e-03,   2.03959561e-03,   2.06055982e-03,\n",
       "         2.08152403e-03])"
      ]
     },
     "execution_count": 78,
     "metadata": {},
     "output_type": "execute_result"
    }
   ],
   "source": [
    "len_of_core = 122.5/1000\n",
    "l_gap = []\n",
    "\n",
    "u0 = 4*np.pi*(10**(-7))\n",
    "r1 = u0*i*len_of_core/mew #lc*u0/uc\n",
    "t = np.divide(u0*i,b) #u0*i/b\n",
    "r2 = np.multiply(t,n_turns) #u0*N*I/b\n",
    "\n",
    "l_gap = np.subtract(r2,r1)\n",
    "    \n",
    "l_gap"
   ]
  },
  {
   "cell_type": "code",
   "execution_count": 86,
   "metadata": {
    "collapsed": false
   },
   "outputs": [],
   "source": [
    "inductance = 5.5/(50*2*np.pi)\n",
    "flux = np.divide(inductance*1,n_turns)\n",
    "eff_x_area_core = np.divide(flux,b)"
   ]
  },
  {
   "cell_type": "code",
   "execution_count": 83,
   "metadata": {
    "collapsed": true
   },
   "outputs": [],
   "source": [
    "depths = np.divide(eff_x_area_core,9.5/1000)"
   ]
  },
  {
   "cell_type": "code",
   "execution_count": 84,
   "metadata": {
    "collapsed": false
   },
   "outputs": [
    {
     "data": {
      "text/plain": [
       "array([ 229.55208746,  127.67222842,   88.4266796 ,   67.63588291,\n",
       "         54.76061845,   46.00335356,   39.66083186,   34.85530162,\n",
       "         31.0884496 ,   28.05636624,   25.56316834,   23.47691804,\n",
       "         21.70549824,   20.18264357,   18.85946611,   17.69910955,\n",
       "         16.67326241,   15.75981738,   14.94126013,   14.20353541,\n",
       "         13.53523327,   12.92699469,   12.37107058,   11.86098991,\n",
       "         11.3913066 ,   10.95740437,   10.55534448,   10.18174581,\n",
       "          9.8336896 ,    9.50864295,    9.20439719,    8.91901753,\n",
       "          8.65080193,    8.3982471 ,    8.16002034,    7.93493598,\n",
       "          7.72193566,    7.52007169,    7.32849296,    7.14643291,\n",
       "          6.97319934,    6.80816557,    6.65076285,    6.50047387,\n",
       "          6.35682704,    6.21939153,    6.08777301,    5.96160983,\n",
       "          5.84056969,    5.72434677,    5.61265909,    5.50524628,\n",
       "          5.40186752,    5.30229973,    5.206336  ,    5.11378413,\n",
       "          5.02446532,    4.93821309,    4.85487218,    4.77429762,\n",
       "          4.69635393,    4.62091433,    4.54786005,    4.47707972,\n",
       "          4.4084688 ,    4.34192905,    4.27736809,    4.21469894,\n",
       "          4.15383964,    4.09471291,    4.03724581,    3.98136942,\n",
       "          3.9270186 ,    3.87413172,    3.82265041,    3.77251937,\n",
       "          3.72368616,    3.67610104,    3.62971676,    3.58448843,\n",
       "          3.54037337,    3.49733097,    3.45532259,    3.4143114 ,\n",
       "          3.37426231,    3.33514186,    3.29691813,    3.25956062,\n",
       "          3.22304023,    3.18732912,    3.1524007 ,    3.11822951,\n",
       "          3.08479118,    3.0520624 ,    3.02002082,    2.98864501,\n",
       "          2.95791444,    2.92780941,    2.89831101,    2.86940109])"
      ]
     },
     "execution_count": 84,
     "metadata": {},
     "output_type": "execute_result"
    }
   ],
   "source": [
    "num_lamin = np.divide(depths,0.5/1000)\n",
    "num_lamin"
   ]
  },
  {
   "cell_type": "code",
   "execution_count": 85,
   "metadata": {
    "collapsed": false
   },
   "outputs": [
    {
     "data": {
      "image/png": "[encoded data removed]",
      "text/plain": [
       "<matplotlib.figure.Figure at 0x2613efda668>"
      ]
     },
     "metadata": {},
     "output_type": "display_data"
    }
   ],
   "source": [
    "plt.plot(num_lamin,n_turns)\n",
    "plt.show()"
   ]
  },
  {
   "cell_type": "code",
   "execution_count": null,
   "metadata": {
    "collapsed": true
   },
   "outputs": [],
   "source": [
    "print(\"Optimal result of turns (maybe)=\", n_turns[test], \"with gap length =\")"
   ]
  },
  {
   "cell_type": "code",
   "execution_count": 24,
   "metadata": {
    "collapsed": false
   },
   "outputs": [
    {
     "name": "stdout",
     "output_type": "stream",
     "text": [
      "min(lamin) = 262.345242806 ; turns =  16.7250231555\n",
      "min(lamin) = 145.91111819 ; turns =  30.0712537544\n",
      "min(lamin) = 101.059062404 ; turns =  43.4174843533\n",
      "min(lamin) = 77.2981518983 ; turns =  56.7637149521\n",
      "min(lamin) = 62.5835639466 ; turns =  70.109945551\n",
      "min(lamin) = 52.5752612102 ; turns =  83.4561761498\n",
      "min(lamin) = 45.3266649875 ; turns =  96.8024067487\n",
      "min(lamin) = 39.8346304261 ; turns =  110.148637348\n",
      "min(lamin) = 35.5296566865 ; turns =  123.494867946\n",
      "min(lamin) = 32.0644185652 ; turns =  136.841098545\n",
      "min(lamin) = 29.2150495364 ; turns =  150.187329144\n",
      "min(lamin) = 26.8307634688 ; turns =  163.533559743\n",
      "min(lamin) = 24.8062837037 ; turns =  176.879790342\n",
      "min(lamin) = 23.065878364 ; turns =  190.226020941\n",
      "min(lamin) = 21.5536755501 ; turns =  203.57225154\n",
      "min(lamin) = 20.2275537678 ; turns =  216.918482138\n",
      "min(lamin) = 19.0551570344 ; turns =  230.264712737\n",
      "min(lamin) = 18.0112198598 ; turns =  243.610943336\n",
      "min(lamin) = 17.0757258631 ; turns =  256.957173935\n",
      "min(lamin) = 16.2326118986 ; turns =  270.303404534\n",
      "min(lamin) = 15.4688380213 ; turns =  283.649635133\n",
      "min(lamin) = 14.7737082126 ; turns =  296.995865732\n",
      "min(lamin) = 14.1383663788 ; turns =  310.34209633\n",
      "min(lamin) = 13.5554170344 ; turns =  323.688326929\n",
      "min(lamin) = 13.0186361092 ; turns =  337.034557528\n",
      "min(lamin) = 12.5227478485 ; turns =  350.380788127\n",
      "min(lamin) = 12.0632508304 ; turns =  363.727018726\n",
      "min(lamin) = 11.6362809309 ; turns =  377.073249325\n",
      "min(lamin) = 11.2385023963 ; turns =  390.419479924\n",
      "min(lamin) = 10.8670205179 ; turns =  403.765710522\n",
      "min(lamin) = 10.5193110724 ; turns =  417.111941121\n",
      "min(lamin) = 10.1931628877 ; turns =  430.45817172\n",
      "min(lamin) = 9.88663077191 ; turns =  443.804402319\n",
      "min(lamin) = 9.59799668803 ; turns =  457.150632918\n",
      "min(lamin) = 9.32573753602 ; turns =  470.496863517\n",
      "min(lamin) = 9.0684982674 ; turns =  483.843094116\n",
      "min(lamin) = 8.82506932987 ; turns =  497.189324714\n",
      "min(lamin) = 8.59436764984 ; turns =  510.535555313\n",
      "min(lamin) = 8.37542052171 ; turns =  523.881785912\n",
      "min(lamin) = 8.16735189869 ; turns =  537.228016511\n",
      "min(lamin) = 7.96937067745 ; turns =  550.57424711\n",
      "min(lamin) = 7.78076064644 ; turns =  563.920477709\n",
      "min(lamin) = 7.60087182845 ; turns =  577.266708308\n",
      "min(lamin) = 7.42911299709 ; turns =  590.612938907\n",
      "min(lamin) = 7.2649451854 ; turns =  603.959169505\n",
      "min(lamin) = 7.10787603662 ; turns =  617.305400104\n",
      "min(lamin) = 6.95745487217 ; turns =  630.651630703\n",
      "min(lamin) = 6.81326837299 ; turns =  643.997861302\n",
      "min(lamin) = 6.6749367869 ; turns =  657.344091901\n",
      "min(lamin) = 6.54211058887 ; turns =  670.6903225\n",
      "min(lamin) = 6.41446753219 ; turns =  684.036553099\n",
      "min(lamin) = 6.29171003823 ; turns =  697.382783697\n",
      "min(lamin) = 6.17356288039 ; turns =  710.729014296\n",
      "min(lamin) = 6.05977112408 ; turns =  724.075244895\n",
      "min(lamin) = 5.95009829045 ; turns =  737.421475494\n",
      "min(lamin) = 5.84432471598 ; turns =  750.767706093\n",
      "min(lamin) = 5.74224608398 ; turns =  764.113936692\n",
      "min(lamin) = 5.64367210731 ; turns =  777.460167291\n",
      "min(lamin) = 5.54842534455 ; turns =  790.806397889\n",
      "min(lamin) = 5.456340134 ; turns =  804.152628488\n",
      "min(lamin) = 5.36726163212 ; turns =  817.498859087\n",
      "min(lamin) = 5.28104494466 ; turns =  830.845089686\n",
      "min(lamin) = 5.19755434017 ; turns =  844.191320285\n",
      "min(lamin) = 5.116662537 ; turns =  857.537550884\n",
      "min(lamin) = 5.03825005583 ; turns =  870.883781483\n",
      "min(lamin) = 4.96220463084 ; turns =  884.230012081\n",
      "min(lamin) = 4.88842067341 ; turns =  897.57624268\n",
      "min(lamin) = 4.81679878298 ; turns =  910.922473279\n",
      "min(lamin) = 4.74724530028 ; turns =  924.268703878\n",
      "min(lamin) = 4.67967189871 ; turns =  937.614934477\n",
      "min(lamin) = 4.61399521013 ; turns =  950.961165076\n",
      "min(lamin) = 4.55013648175 ; turns =  964.307395675\n",
      "min(lamin) = 4.48802126107 ; turns =  977.653626273\n",
      "min(lamin) = 4.42757910635 ; turns =  990.999856872\n",
      "min(lamin) = 4.36874332007 ; turns =  1004.34608747\n",
      "min(lamin) = 4.31145070349 ; turns =  1017.69231807\n",
      "min(lamin) = 4.25564133014 ; turns =  1031.03854867\n",
      "min(lamin) = 4.20125833676 ; turns =  1044.38477927\n",
      "min(lamin) = 4.14824773005 ; turns =  1057.73100987\n",
      "min(lamin) = 4.09655820786 ; turns =  1071.07724047\n",
      "min(lamin) = 4.04614099358 ; turns =  1084.42347106\n",
      "min(lamin) = 3.99694968264 ; turns =  1097.76970166\n",
      "min(lamin) = 3.94894010002 ; turns =  1111.11593226\n",
      "min(lamin) = 3.90207016794 ; turns =  1124.46216286\n",
      "min(lamin) = 3.8562997829 ; turns =  1137.80839346\n",
      "min(lamin) = 3.81159070118 ; turns =  1151.15462406\n",
      "min(lamin) = 3.7679064323 ; turns =  1164.50085466\n",
      "min(lamin) = 3.72521213968 ; turns =  1177.84708526\n",
      "min(lamin) = 3.68347454798 ; turns =  1191.19331586\n",
      "min(lamin) = 3.64266185664 ; turns =  1204.53954645\n",
      "min(lamin) = 3.60274365901 ; turns =  1217.88577705\n",
      "min(lamin) = 3.56369086688 ; turns =  1231.23200765\n",
      "min(lamin) = 3.52547563972 ; turns =  1244.57823825\n",
      "min(lamin) = 3.48807131854 ; turns =  1257.92446885\n",
      "min(lamin) = 3.45145236383 ; turns =  1271.27069945\n",
      "min(lamin) = 3.41559429745 ; turns =  1284.61693005\n",
      "min(lamin) = 3.38047364803 ; turns =  1297.96316065\n",
      "min(lamin) = 3.34606789974 ; turns =  1311.30939124\n",
      "min(lamin) = 3.31235544418 ; turns =  1324.65562184\n",
      "min(lamin) = 3.27931553508 ; turns =  1338.00185244\n",
      "Optimal result of turns (maybe)= 16.7250231555 with gap length =\n"
     ]
    }
   ],
   "source": [
    "results = []\n",
    "for i in range(len(num_lamin)):\n",
    "    print(\"min(lamin) =\",min(num_lamin[i]),\"; turns = \",n_turns[i])\n",
    "    results.append((min(num_lamin[i]))*(n_turns[i]))\n",
    "\n",
    "test = results.index(min(results))\n",
    "print(\"Optimal result of turns (maybe)=\", n_turns[test], \"with gap length =\") #min(np.abs(l_gap[test])),\"B =\",\n",
    "      #b_values[l_gap[test].tolist().index(min(np.abs(l_gap[test])))])"
   ]
  },
  {
   "cell_type": "markdown",
   "metadata": {},
   "source": [
    "### When I didn't know what I was doing..."
   ]
  },
  {
   "cell_type": "code",
   "execution_count": 13,
   "metadata": {
    "collapsed": false
   },
   "outputs": [
    {
     "data": {
      "text/plain": [
       "100"
      ]
     },
     "execution_count": 13,
     "metadata": {},
     "output_type": "execute_result"
    }
   ],
   "source": [
    "len_of_core = 122.5/1000\n",
    "depth = np.divide(np.linspace(0.5,50,100),1000) #0.5mm ->5cm\n",
    "x_area_core = np.multiply((9.5/1000),depth)\n",
    "#x_area_core = (9.5/1000)*(20/1000) #np.multiply((9.5/1000),depth)\n",
    "len(x_area_core)"
   ]
  },
  {
   "cell_type": "code",
   "execution_count": 14,
   "metadata": {
    "collapsed": false
   },
   "outputs": [],
   "source": [
    "flux = []\n",
    "for x_area in x_area_core:\n",
    "    flux.append(np.multiply(b_values,x_area))\n",
    "# flux = np.multiply(b_values,x_area_core)\n",
    "#len(mmf) = 100\n",
    "#len(flux) = 100\n",
    "# flux = 2D array 100,61\n",
    "len(flux)\n",
    "\n",
    "\n",
    "# The 2D flux array has all the flux values for a different \n",
    "# cross sectional area at each element. Each element of these arrays \n",
    "# is then divided from each mmf to find the total reluctance for \n",
    "# each cross sectional area for all possible values along the b-h curve.\n",
    "# This reslts in a 3D array holding values for every area, every b values\n",
    "# and every mmf.\n",
    "\n",
    "i = 0\n",
    "j = 0\n",
    "total_r = [[] for i in range(len(x_area_core))]\n",
    "for an_area in flux:\n",
    "    #total_r[j].append([])\n",
    "    for a_flux in an_area:\n",
    "        #print(\"i:\",i,\"j\",j)\n",
    "        #print(\"total_r[j]:\",len(total_r[j]),\"total_r:\",len(total_r))\n",
    "        total_r[j].append(np.divide(mmf,a_flux)) #using one flux val for now     flux[j][i]\n",
    "        i+=1\n",
    "    j+=1\n",
    "    i=0"
   ]
  },
  {
   "cell_type": "code",
   "execution_count": 15,
   "metadata": {
    "collapsed": false
   },
   "outputs": [
    {
     "ename": "IndexError",
     "evalue": "list index out of range",
     "output_type": "error",
     "traceback": [
      "\u001b[0;31m---------------------------------------------------------------------------\u001b[0m",
      "\u001b[0;31mIndexError\u001b[0m                                Traceback (most recent call last)",
      "\u001b[0;32m<ipython-input-15-013f93e116d4>\u001b[0m in \u001b[0;36m<module>\u001b[0;34m()\u001b[0m\n\u001b[0;32m----> 1\u001b[0;31m \u001b[0mprint\u001b[0m\u001b[1;33m(\u001b[0m\u001b[1;34m\"total_r[j]:\"\u001b[0m\u001b[1;33m,\u001b[0m\u001b[0mlen\u001b[0m\u001b[1;33m(\u001b[0m\u001b[0mtotal_r\u001b[0m\u001b[1;33m[\u001b[0m\u001b[1;36m0\u001b[0m\u001b[1;33m]\u001b[0m\u001b[1;33m)\u001b[0m\u001b[1;33m,\u001b[0m\u001b[1;34m\"total_r:\"\u001b[0m\u001b[1;33m,\u001b[0m\u001b[0mlen\u001b[0m\u001b[1;33m(\u001b[0m\u001b[0mtotal_r\u001b[0m\u001b[1;33m)\u001b[0m\u001b[1;33m,\u001b[0m\u001b[1;34m\"el:\"\u001b[0m\u001b[1;33m,\u001b[0m\u001b[0mlen\u001b[0m\u001b[1;33m(\u001b[0m\u001b[0mtotal_r\u001b[0m\u001b[1;33m[\u001b[0m\u001b[1;36m0\u001b[0m\u001b[1;33m]\u001b[0m\u001b[1;33m[\u001b[0m\u001b[1;36m1\u001b[0m\u001b[1;33m]\u001b[0m\u001b[1;33m)\u001b[0m\u001b[1;33m)\u001b[0m\u001b[1;33m\u001b[0m\u001b[0m\n\u001b[0m\u001b[1;32m      2\u001b[0m \u001b[1;31m#print(total_r[0:10][0:3][:])\u001b[0m\u001b[1;33m\u001b[0m\u001b[1;33m\u001b[0m\u001b[0m\n",
      "\u001b[0;31mIndexError\u001b[0m: list index out of range"
     ]
    }
   ],
   "source": [
    "print(\"total_r[j]:\",len(total_r[0]),\"total_r:\",len(total_r),\"el:\",len(total_r[0][1]))\n",
    "#print(total_r[0:10][0:3][:])"
   ]
  },
  {
   "cell_type": "code",
   "execution_count": null,
   "metadata": {
    "collapsed": false
   },
   "outputs": [],
   "source": [
    "r_gap =[[] for i in range(len(x_area_core))]\n",
    "\n",
    "i = 0\n",
    "j = 0\n",
    "for an_area in flux:\n",
    "    for a_flux in an_area:\n",
    "        r_gap[j].append(np.subtract(total_r[i][j],(len_of_core)/(mew[i]*x_area_core[j])))\n",
    "        i+=1\n",
    "    j+=1\n",
    "    \n",
    "#l_gap = r_gap*4*np.pi*10e-7*x_area_core\n",
    "# l_gap"
   ]
  }
 ],
 "metadata": {
  "anaconda-cloud": {},
  "kernelspec": {
   "display_name": "Python [conda root]",
   "language": "python",
   "name": "conda-root-py"
  },
  "language_info": {
   "codemirror_mode": {
    "name": "ipython",
    "version": 3
   },
   "file_extension": ".py",
   "mimetype": "text/x-python",
   "name": "python",
   "nbconvert_exporter": "python",
   "pygments_lexer": "ipython3",
   "version": "3.5.2"
  }
 },
 "nbformat": 4,
 "nbformat_minor": 2
}
