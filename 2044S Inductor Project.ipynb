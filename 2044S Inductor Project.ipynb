{
 "cells": [
  {
   "cell_type": "markdown",
   "metadata": {},
   "source": [
    "# Inductor Shit\n",
    "---------------"
   ]
  },
  {
   "cell_type": "markdown",
   "metadata": {},
   "source": [
    "The following method is the theoretical process for determining the unknowns needed to build an\n",
    "inductor.\n",
    "1. Initially a fill factor for the window area above “kfill” must be chosen in the range: 0.01 to\n",
    "0.8. This is the ratio of copper area to the window area.\n",
    "2. The Number of turns can be determined by considering the cross sectional area of the\n",
    "wire and the proportion (kfill) of the window area occupied by copper:\n",
    "𝑁 =\n",
    "𝐴𝑟𝑒𝑎 𝑜𝑓 𝑤𝑖𝑛𝑑𝑜𝑤 ∗ 𝑘𝑓𝑖𝑙𝑙  /\n",
    "𝐶𝑟𝑜𝑠𝑠 𝑠𝑒𝑐𝑡𝑖𝑜𝑛𝑎𝑙 𝐴𝑟𝑒𝑎 𝑜𝑓 𝑡ℎ𝑒 𝑤𝑖𝑟𝑒\n",
    "3. Decide on the operating flux density for your inductor by considering the magnetization\n",
    "curve of the material.\n",
    "4. Determine the airgap length by considering the MMF’s around the loop of your magnetic\n",
    "equivalent circuit.\n",
    "5. Find the total flux in the core by using alternate definitions for flux linkage of the coil:\n",
    "𝜆 = 𝑁∅ = 𝐿𝑖\n",
    "6. From the flux the cross section area of the core can be calculated in order to calculate\n",
    "depth and finally the number of laminations needed:\n",
    "𝐸𝑓𝑓𝑒𝑐𝑡𝑖𝑣𝑒 𝐶𝑟𝑜𝑠𝑠 𝑠𝑒𝑐𝑡𝑖𝑜𝑛𝑎𝑙 𝐴𝑟𝑒𝑎 𝑜𝑓 𝐶𝑜𝑟𝑒 =\n",
    "∅\n",
    "𝐵\n",
    "Note: The area above is the effective area of the ferromagnetic material required. This\n",
    "differs from the actual core area below, by the stacking factor.\n",
    "7. The actual depth of the core can be calculated based on the actual core area and width.\n",
    "8. The number of laminations can now be calculated on the basis of the lamination\n",
    "thickness and actual core depth.\n",
    "𝑁𝑜. 𝐿𝑎𝑚𝑖𝑛𝑎𝑡𝑖𝑜𝑛𝑠 =\n",
    "𝐷𝑒𝑝𝑡ℎ\n",
    "𝑇ℎ𝑖𝑐𝑘𝑛𝑒𝑠𝑠 𝑜𝑓 𝐿𝑎𝑚𝑖𝑛𝑎𝑡𝑖𝑜𝑛𝑠\n",
    "9. There are infinite permutations of the parameters for the design. Please consider the\n",
    "practicality of your design. i.e. 100000 turns or 30 laminations just won’t work! It is\n",
    "recommended to use excel or Matlab to run through several design iterations using the\n",
    "step outlined above."
   ]
  },
  {
   "cell_type": "code",
   "execution_count": 1,
   "metadata": {
    "collapsed": true
   },
   "outputs": [],
   "source": [
    "import numpy as np\n",
    "import pandas as pd"
   ]
  },
  {
   "cell_type": "code",
   "execution_count": 2,
   "metadata": {
    "collapsed": false
   },
   "outputs": [],
   "source": [
    "kfill = np.linspace(0.01,0.8,100)\n",
    "area_of_window = (9.5/1000)*(28/1000)\n",
    "area_of_wire = np.pi*(0.45/2000)**2\n",
    "n_turns = np.divide(np.multiply(area_of_window,kfill),area_of_wire)"
   ]
  },
  {
   "cell_type": "code",
   "execution_count": 3,
   "metadata": {
    "collapsed": false
   },
   "outputs": [
    {
     "data": {
      "text/plain": [
       "array([   16.72502316,    30.07125375,    43.41748435,    56.76371495,\n",
       "          70.10994555,    83.45617615,    96.80240675,   110.14863735,\n",
       "         123.49486795,   136.84109855,   150.18732914,   163.53355974,\n",
       "         176.87979034,   190.22602094,   203.57225154,   216.91848214,\n",
       "         230.26471274,   243.61094334,   256.95717394,   270.30340453,\n",
       "         283.64963513,   296.99586573,   310.34209633,   323.68832693,\n",
       "         337.03455753,   350.38078813,   363.72701873,   377.07324932,\n",
       "         390.41947992,   403.76571052,   417.11194112,   430.45817172,\n",
       "         443.80440232,   457.15063292,   470.49686352,   483.84309412,\n",
       "         497.18932471,   510.53555531,   523.88178591,   537.22801651,\n",
       "         550.57424711,   563.92047771,   577.26670831,   590.61293891,\n",
       "         603.95916951,   617.3054001 ,   630.6516307 ,   643.9978613 ,\n",
       "         657.3440919 ,   670.6903225 ,   684.0365531 ,   697.3827837 ,\n",
       "         710.7290143 ,   724.0752449 ,   737.42147549,   750.76770609,\n",
       "         764.11393669,   777.46016729,   790.80639789,   804.15262849,\n",
       "         817.49885909,   830.84508969,   844.19132028,   857.53755088,\n",
       "         870.88378148,   884.23001208,   897.57624268,   910.92247328,\n",
       "         924.26870388,   937.61493448,   950.96116508,   964.30739567,\n",
       "         977.65362627,   990.99985687,  1004.34608747,  1017.69231807,\n",
       "        1031.03854867,  1044.38477927,  1057.73100987,  1071.07724047,\n",
       "        1084.42347106,  1097.76970166,  1111.11593226,  1124.46216286,\n",
       "        1137.80839346,  1151.15462406,  1164.50085466,  1177.84708526,\n",
       "        1191.19331586,  1204.53954645,  1217.88577705,  1231.23200765,\n",
       "        1244.57823825,  1257.92446885,  1271.27069945,  1284.61693005,\n",
       "        1297.96316065,  1311.30939124,  1324.65562184,  1338.00185244])"
      ]
     },
     "execution_count": 3,
     "metadata": {},
     "output_type": "execute_result"
    }
   ],
   "source": [
    "n_turns"
   ]
  },
  {
   "cell_type": "code",
   "execution_count": 9,
   "metadata": {
    "collapsed": false
   },
   "outputs": [
    {
     "name": "stderr",
     "output_type": "stream",
     "text": [
      "C:\\Users\\Tom\\Anaconda3\\lib\\site-packages\\ipykernel\\__main__.py:1: DeprecationWarning: object of type <class 'float'> cannot be safely interpreted as an integer.\n",
      "  if __name__ == '__main__':\n"
     ]
    }
   ],
   "source": [
    "flux_density = np.linspace(0.02,1.0,0.02)\n",
    "bh_curve = pd.read_csv(\"bhcurve.csv\")"
   ]
  },
  {
   "cell_type": "code",
   "execution_count": 22,
   "metadata": {
    "collapsed": false
   },
   "outputs": [],
   "source": [
    "b_values = bh_curve['B'].values\n",
    "h_values = bh_curve['H'].values"
   ]
  },
  {
   "cell_type": "code",
   "execution_count": 24,
   "metadata": {
    "collapsed": false
   },
   "outputs": [],
   "source": [
    "mew = np.divide(b_values,h_values)"
   ]
  },
  {
   "cell_type": "code",
   "execution_count": 29,
   "metadata": {
    "collapsed": false
   },
   "outputs": [],
   "source": [
    "i = 1\n",
    "mmf = np.multiply(n_turns,i)"
   ]
  },
  {
   "cell_type": "code",
   "execution_count": 32,
   "metadata": {
    "collapsed": false
   },
   "outputs": [
    {
     "name": "stderr",
     "output_type": "stream",
     "text": [
      "C:\\Users\\Tom\\Anaconda3\\lib\\site-packages\\ipykernel\\__main__.py:2: DeprecationWarning: object of type <class 'float'> cannot be safely interpreted as an integer.\n",
      "  from ipykernel import kernelapp as app\n"
     ]
    },
    {
     "data": {
      "text/plain": [
       "0.00019"
      ]
     },
     "execution_count": 32,
     "metadata": {},
     "output_type": "execute_result"
    }
   ],
   "source": [
    "len_of_core = 122.5/1000\n",
    "depth = np.linspace(0.5,500,0.5)\n",
    "x_area_core = (9.5/1000)*(20/1000) #np.multiply((9.5/1000),depth)\n",
    "x_area_core"
   ]
  },
  {
   "cell_type": "code",
   "execution_count": 37,
   "metadata": {
    "collapsed": false
   },
   "outputs": [],
   "source": [
    "flux = np.multiply(b_values,x_area_core)\n",
    "total_r = np.divide(mmf,flux[24]) #using one flux val for now"
   ]
  },
  {
   "cell_type": "code",
   "execution_count": 38,
   "metadata": {
    "collapsed": false
   },
   "outputs": [
    {
     "data": {
      "text/plain": [
       "0.0068565456989975772"
      ]
     },
     "execution_count": 38,
     "metadata": {},
     "output_type": "execute_result"
    }
   ],
   "source": [
    "r_gap = total_r[20]-(len_of_core)/(mew[24]*x_area_core)\n",
    "l_gap = r_gap*4*np.pi*10e-7*x_area_core\n",
    "l_gap"
   ]
  }
 ],
 "metadata": {
  "anaconda-cloud": {},
  "kernelspec": {
   "display_name": "Python [conda root]",
   "language": "python",
   "name": "conda-root-py"
  },
  "language_info": {
   "codemirror_mode": {
    "name": "ipython",
    "version": 3
   },
   "file_extension": ".py",
   "mimetype": "text/x-python",
   "name": "python",
   "nbconvert_exporter": "python",
   "pygments_lexer": "ipython3",
   "version": "3.5.2"
  }
 },
 "nbformat": 4,
 "nbformat_minor": 2
}
