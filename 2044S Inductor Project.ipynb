{
 "cells": [
  {
   "cell_type": "markdown",
   "metadata": {},
   "source": [
    "# Inductor Project\n",
    "---------------"
   ]
  },
  {
   "cell_type": "markdown",
   "metadata": {},
   "source": [
    "The following method is the theoretical process for determining the unknowns needed to build an\n",
    "inductor.\n",
    "1. Initially a fill factor for the window area above “kfill” must be chosen in the range: 0.01 to\n",
    "0.8. This is the ratio of copper area to the window area.\n",
    "2. The Number of turns can be determined by considering the cross sectional area of the\n",
    "wire and the proportion (kfill) of the window area occupied by copper:\n",
    "𝑁 =\n",
    "𝐴𝑟𝑒𝑎 𝑜𝑓 𝑤𝑖𝑛𝑑𝑜𝑤 ∗ 𝑘𝑓𝑖𝑙𝑙  /\n",
    "𝐶𝑟𝑜𝑠𝑠 𝑠𝑒𝑐𝑡𝑖𝑜𝑛𝑎𝑙 𝐴𝑟𝑒𝑎 𝑜𝑓 𝑡ℎ𝑒 𝑤𝑖𝑟𝑒\n",
    "3. Decide on the operating flux density for your inductor by considering the magnetization\n",
    "curve of the material.\n",
    "4. Determine the airgap length by considering the MMF’s around the loop of your magnetic\n",
    "equivalent circuit.\n",
    "5. Find the total flux in the core by using alternate definitions for flux linkage of the coil:\n",
    "𝜆 = 𝑁∅ = 𝐿𝑖\n",
    "6. From the flux the cross section area of the core can be calculated in order to calculate\n",
    "depth and finally the number of laminations needed:\n",
    "𝐸𝑓𝑓𝑒𝑐𝑡𝑖𝑣𝑒 𝐶𝑟𝑜𝑠𝑠 𝑠𝑒𝑐𝑡𝑖𝑜𝑛𝑎𝑙 𝐴𝑟𝑒𝑎 𝑜𝑓 𝐶𝑜𝑟𝑒 =\n",
    "∅\n",
    "𝐵\n",
    "Note: The area above is the effective area of the ferromagnetic material required. This\n",
    "differs from the actual core area below, by the stacking factor.\n",
    "7. The actual depth of the core can be calculated based on the actual core area and width.\n",
    "8. The number of laminations can now be calculated on the basis of the lamination\n",
    "thickness and actual core depth.\n",
    "𝑁𝑜. 𝐿𝑎𝑚𝑖𝑛𝑎𝑡𝑖𝑜𝑛𝑠 =\n",
    "𝐷𝑒𝑝𝑡ℎ\n",
    "𝑇ℎ𝑖𝑐𝑘𝑛𝑒𝑠𝑠 𝑜𝑓 𝐿𝑎𝑚𝑖𝑛𝑎𝑡𝑖𝑜𝑛𝑠\n",
    "9. There are infinite permutations of the parameters for the design. Please consider the\n",
    "practicality of your design. i.e. 100000 turns or 30 laminations just won’t work! It is\n",
    "recommended to use excel or Matlab to run through several design iterations using the\n",
    "step outlined above."
   ]
  },
  {
   "cell_type": "code",
   "execution_count": 26,
   "metadata": {
    "collapsed": false
   },
   "outputs": [],
   "source": [
    "import numpy as np\n",
    "import pandas as pd\n",
    "import matplotlib.pyplot as plt"
   ]
  },
  {
   "cell_type": "code",
   "execution_count": 27,
   "metadata": {
    "collapsed": false
   },
   "outputs": [],
   "source": [
    "kfill = np.linspace(0.01,0.8,100)\n",
    "area_of_window = (9.5/1000)*(28/1000)\n",
    "area_of_wire = np.pi*(0.45/2000)**2\n",
    "n_turns = np.divide(np.multiply(area_of_window,kfill),area_of_wire)"
   ]
  },
  {
   "cell_type": "code",
   "execution_count": 28,
   "metadata": {
    "collapsed": false
   },
   "outputs": [
    {
     "data": {
      "text/plain": [
       "array([   16.72502316,    30.07125375,    43.41748435,    56.76371495,\n",
       "          70.10994555,    83.45617615,    96.80240675,   110.14863735,\n",
       "         123.49486795,   136.84109855,   150.18732914,   163.53355974,\n",
       "         176.87979034,   190.22602094,   203.57225154,   216.91848214,\n",
       "         230.26471274,   243.61094334,   256.95717394,   270.30340453,\n",
       "         283.64963513,   296.99586573,   310.34209633,   323.68832693,\n",
       "         337.03455753,   350.38078813,   363.72701873,   377.07324932,\n",
       "         390.41947992,   403.76571052,   417.11194112,   430.45817172,\n",
       "         443.80440232,   457.15063292,   470.49686352,   483.84309412,\n",
       "         497.18932471,   510.53555531,   523.88178591,   537.22801651,\n",
       "         550.57424711,   563.92047771,   577.26670831,   590.61293891,\n",
       "         603.95916951,   617.3054001 ,   630.6516307 ,   643.9978613 ,\n",
       "         657.3440919 ,   670.6903225 ,   684.0365531 ,   697.3827837 ,\n",
       "         710.7290143 ,   724.0752449 ,   737.42147549,   750.76770609,\n",
       "         764.11393669,   777.46016729,   790.80639789,   804.15262849,\n",
       "         817.49885909,   830.84508969,   844.19132028,   857.53755088,\n",
       "         870.88378148,   884.23001208,   897.57624268,   910.92247328,\n",
       "         924.26870388,   937.61493448,   950.96116508,   964.30739567,\n",
       "         977.65362627,   990.99985687,  1004.34608747,  1017.69231807,\n",
       "        1031.03854867,  1044.38477927,  1057.73100987,  1071.07724047,\n",
       "        1084.42347106,  1097.76970166,  1111.11593226,  1124.46216286,\n",
       "        1137.80839346,  1151.15462406,  1164.50085466,  1177.84708526,\n",
       "        1191.19331586,  1204.53954645,  1217.88577705,  1231.23200765,\n",
       "        1244.57823825,  1257.92446885,  1271.27069945,  1284.61693005,\n",
       "        1297.96316065,  1311.30939124,  1324.65562184,  1338.00185244])"
      ]
     },
     "execution_count": 28,
     "metadata": {},
     "output_type": "execute_result"
    }
   ],
   "source": [
    "n_turns"
   ]
  },
  {
   "cell_type": "code",
   "execution_count": 49,
   "metadata": {
    "collapsed": false
   },
   "outputs": [],
   "source": [
    "bh_curve = pd.read_csv(\"bhcurve.csv\")"
   ]
  },
  {
   "cell_type": "code",
   "execution_count": 50,
   "metadata": {
    "collapsed": false
   },
   "outputs": [
    {
     "data": {
      "image/png": "[encoded data removed]",
      "text/plain": [
       "<matplotlib.figure.Figure at 0x2613ef849e8>"
      ]
     },
     "metadata": {},
     "output_type": "display_data"
    }
   ],
   "source": [
    "b_values = bh_curve['B'].values\n",
    "h_values = bh_curve['H'].values\n",
    "fig = plt.figure()\n",
    "ax = fig.add_subplot(111)\n",
    "ax.set_xscale('log')\n",
    "ax.plot(h_values,b_values)\n",
    "plt.show()"
   ]
  },
  {
   "cell_type": "code",
   "execution_count": 138,
   "metadata": {
    "collapsed": false
   },
   "outputs": [],
   "source": [
    "#choosing B to be 0.7 because the response is linear around it\n",
    "b = 0.7\n",
    "h = 105\n",
    "mew = np.divide(b,h)"
   ]
  },
  {
   "cell_type": "code",
   "execution_count": 139,
   "metadata": {
    "collapsed": false
   },
   "outputs": [],
   "source": [
    "i = 1\n",
    "mmf = np.multiply(n_turns,i)"
   ]
  },
  {
   "cell_type": "code",
   "execution_count": 140,
   "metadata": {
    "collapsed": false
   },
   "outputs": [
    {
     "data": {
      "text/plain": [
       "array([  6.93398535e-06,   3.08930825e-05,   5.48521796e-05,\n",
       "         7.88112768e-05,   1.02770374e-04,   1.26729471e-04,\n",
       "         1.50688568e-04,   1.74647665e-04,   1.98606763e-04,\n",
       "         2.22565860e-04,   2.46524957e-04,   2.70484054e-04,\n",
       "         2.94443151e-04,   3.18402248e-04,   3.42361345e-04,\n",
       "         3.66320443e-04,   3.90279540e-04,   4.14238637e-04,\n",
       "         4.38197734e-04,   4.62156831e-04,   4.86115928e-04,\n",
       "         5.10075025e-04,   5.34034123e-04,   5.57993220e-04,\n",
       "         5.81952317e-04,   6.05911414e-04,   6.29870511e-04,\n",
       "         6.53829608e-04,   6.77788705e-04,   7.01747803e-04,\n",
       "         7.25706900e-04,   7.49665997e-04,   7.73625094e-04,\n",
       "         7.97584191e-04,   8.21543288e-04,   8.45502385e-04,\n",
       "         8.69461483e-04,   8.93420580e-04,   9.17379677e-04,\n",
       "         9.41338774e-04,   9.65297871e-04,   9.89256968e-04,\n",
       "         1.01321607e-03,   1.03717516e-03,   1.06113426e-03,\n",
       "         1.08509336e-03,   1.10905245e-03,   1.13301155e-03,\n",
       "         1.15697065e-03,   1.18092975e-03,   1.20488884e-03,\n",
       "         1.22884794e-03,   1.25280704e-03,   1.27676613e-03,\n",
       "         1.30072523e-03,   1.32468433e-03,   1.34864343e-03,\n",
       "         1.37260252e-03,   1.39656162e-03,   1.42052072e-03,\n",
       "         1.44447981e-03,   1.46843891e-03,   1.49239801e-03,\n",
       "         1.51635711e-03,   1.54031620e-03,   1.56427530e-03,\n",
       "         1.58823440e-03,   1.61219349e-03,   1.63615259e-03,\n",
       "         1.66011169e-03,   1.68407079e-03,   1.70802988e-03,\n",
       "         1.73198898e-03,   1.75594808e-03,   1.77990717e-03,\n",
       "         1.80386627e-03,   1.82782537e-03,   1.85178447e-03,\n",
       "         1.87574356e-03,   1.89970266e-03,   1.92366176e-03,\n",
       "         1.94762085e-03,   1.97157995e-03,   1.99553905e-03,\n",
       "         2.01949815e-03,   2.04345724e-03,   2.06741634e-03,\n",
       "         2.09137544e-03,   2.11533453e-03,   2.13929363e-03,\n",
       "         2.16325273e-03,   2.18721183e-03,   2.21117092e-03,\n",
       "         2.23513002e-03,   2.25908912e-03,   2.28304821e-03,\n",
       "         2.30700731e-03,   2.33096641e-03,   2.35492551e-03,\n",
       "         2.37888460e-03])"
      ]
     },
     "execution_count": 140,
     "metadata": {},
     "output_type": "execute_result"
    }
   ],
   "source": [
    "len_of_core = 122.5/1000\n",
    "l_gap = []\n",
    "\n",
    "u0 = 4*np.pi*(10**(-7))\n",
    "r1 = u0*i*len_of_core/(2*mew) #lc*u0/uc\n",
    "t = np.divide(u0*i,2*b) #u0*i/b\n",
    "r2 = np.multiply(t,n_turns) #u0*N*I/b\n",
    "\n",
    "l_gap = np.subtract(r2,r1)\n",
    "    \n",
    "l_gap"
   ]
  },
  {
   "cell_type": "code",
   "execution_count": 141,
   "metadata": {
    "collapsed": false
   },
   "outputs": [],
   "source": [
    "inductance = 5.5/(50*2*np.pi)\n",
    "flux = np.divide(inductance*1,n_turns)\n",
    "eff_x_area_core = np.divide(flux,b)"
   ]
  },
  {
   "cell_type": "code",
   "execution_count": 142,
   "metadata": {
    "collapsed": true
   },
   "outputs": [],
   "source": [
    "depths = np.divide(eff_x_area_core,9.5/1000)"
   ]
  },
  {
   "cell_type": "code",
   "execution_count": 143,
   "metadata": {
    "collapsed": false
   },
   "outputs": [
    {
     "data": {
      "text/plain": [
       "array([ 314.81429137,  175.09334183,  121.27087488,   92.75778228,\n",
       "         75.10027674,   63.09031345,   54.39199798,   47.80155651,\n",
       "         42.63558802,   38.47730228,   35.05805944,   32.19691616,\n",
       "         29.76754044,   27.67905404,   25.86441066,   24.27306452,\n",
       "         22.86618844,   21.61346383,   20.49087104,   19.47913428,\n",
       "         18.56260563,   17.72844986,   16.96603965,   16.26650044,\n",
       "         15.62236333,   15.02729742,   14.475901  ,   13.96353712,\n",
       "         13.48620288,   13.04042462,   12.62317329,   12.23179547,\n",
       "         11.86395693,   11.51759603,   11.19088504,   10.88219792,\n",
       "         10.5900832 ,   10.31324118,   10.05050463,    9.80082228,\n",
       "          9.56324481,    9.33691278,    9.12104619,    8.9149356 ,\n",
       "          8.71793422,    8.52945124,    8.34894585,    8.17592205,\n",
       "          8.00992414,    7.85053271,    7.69736104,    7.55005205,\n",
       "          7.40827546,    7.27172535,    7.14011795,    7.01318966,\n",
       "          6.8906953 ,    6.77240653,    6.65811041,    6.54760816,\n",
       "          6.44071396,    6.33725393,    6.23706521,    6.13999504,\n",
       "          6.04590007,    5.95464556,    5.86610481,    5.78015854,\n",
       "          5.69669436,    5.61560628,    5.53679425,    5.46016378,\n",
       "          5.38562551,    5.31309493,    5.24249198,    5.17374084,\n",
       "          5.1067696 ,    5.04151   ,    4.97789728,    4.91586985,\n",
       "          4.85536919,    4.79633962,    4.73872812,    4.6824842 ,\n",
       "          4.62755974,    4.57390884,    4.52148772,    4.47025457,\n",
       "          4.42016946,    4.37119423,    4.32329239,    4.27642904,\n",
       "          4.23057077,    4.18568558,    4.14174284,    4.09871316,\n",
       "          4.05656838,    4.01528148,    3.97482653,    3.93517864])"
      ]
     },
     "execution_count": 143,
     "metadata": {},
     "output_type": "execute_result"
    }
   ],
   "source": [
    "num_lamin = np.divide(depths,0.5/1000)\n",
    "num_lamin"
   ]
  },
  {
   "cell_type": "code",
   "execution_count": 144,
   "metadata": {
    "collapsed": false
   },
   "outputs": [
    {
     "data": {
      "image/png": "[encoded data removed]",
      "text/plain": [
       "<matplotlib.figure.Figure at 0x2613eec6278>"
      ]
     },
     "metadata": {},
     "output_type": "display_data"
    }
   ],
   "source": [
    "plt.plot(num_lamin,n_turns)\n",
    "plt.show()"
   ]
  },
  {
   "cell_type": "code",
   "execution_count": 151,
   "metadata": {
    "collapsed": false
   },
   "outputs": [
    {
     "name": "stdout",
     "output_type": "stream",
     "text": [
      "Turns: 403.765710522 ; Laminations: 13.0404246215 ; Gap Length: 0.000701747802538\n"
     ]
    }
   ],
   "source": [
    "result = num_lamin[0]*n_turns[0]\n",
    "for x in range(len(num_lamin)):\n",
    "    nxt = num_lamin[i]*n_turns[i]\n",
    "    if nxt < result:\n",
    "        result = nxt\n",
    "        print(x)\n",
    "        \n",
    "resultindex = 29\n",
    "        \n",
    "print(\"Turns:\",n_turns[resultindex],\"; Laminations:\",num_lamin[resultindex],\"; Gap Length:\",l_gap[resultindex])\n",
    "\n",
    "# print(\"Optimal result of turns (maybe)=\", n_turns, \"with gap length =\")\n",
    "# result"
   ]
  },
  {
   "cell_type": "code",
   "execution_count": 130,
   "metadata": {
    "collapsed": false
   },
   "outputs": [
    {
     "ename": "TypeError",
     "evalue": "'numpy.float64' object is not iterable",
     "output_type": "error",
     "traceback": [
      "\u001b[0;31m---------------------------------------------------------------------------\u001b[0m",
      "\u001b[0;31mTypeError\u001b[0m                                 Traceback (most recent call last)",
      "\u001b[0;32m<ipython-input-130-0b93e17274b5>\u001b[0m in \u001b[0;36m<module>\u001b[0;34m()\u001b[0m\n\u001b[1;32m      1\u001b[0m \u001b[0mresults\u001b[0m \u001b[1;33m=\u001b[0m \u001b[1;33m[\u001b[0m\u001b[1;33m]\u001b[0m\u001b[1;33m\u001b[0m\u001b[0m\n\u001b[1;32m      2\u001b[0m \u001b[1;32mfor\u001b[0m \u001b[0mi\u001b[0m \u001b[1;32min\u001b[0m \u001b[0mrange\u001b[0m\u001b[1;33m(\u001b[0m\u001b[0mlen\u001b[0m\u001b[1;33m(\u001b[0m\u001b[0mnum_lamin\u001b[0m\u001b[1;33m)\u001b[0m\u001b[1;33m)\u001b[0m\u001b[1;33m:\u001b[0m\u001b[1;33m\u001b[0m\u001b[0m\n\u001b[0;32m----> 3\u001b[0;31m     \u001b[0mprint\u001b[0m\u001b[1;33m(\u001b[0m\u001b[1;34m\"min(lamin) =\"\u001b[0m\u001b[1;33m,\u001b[0m\u001b[0mmin\u001b[0m\u001b[1;33m(\u001b[0m\u001b[0mnum_lamin\u001b[0m\u001b[1;33m[\u001b[0m\u001b[0mi\u001b[0m\u001b[1;33m]\u001b[0m\u001b[1;33m)\u001b[0m\u001b[1;33m,\u001b[0m\u001b[1;34m\"; turns = \"\u001b[0m\u001b[1;33m,\u001b[0m\u001b[0mn_turns\u001b[0m\u001b[1;33m[\u001b[0m\u001b[0mi\u001b[0m\u001b[1;33m]\u001b[0m\u001b[1;33m)\u001b[0m\u001b[1;33m\u001b[0m\u001b[0m\n\u001b[0m\u001b[1;32m      4\u001b[0m     \u001b[0mresults\u001b[0m\u001b[1;33m.\u001b[0m\u001b[0mappend\u001b[0m\u001b[1;33m(\u001b[0m\u001b[1;33m(\u001b[0m\u001b[0mmin\u001b[0m\u001b[1;33m(\u001b[0m\u001b[0mnum_lamin\u001b[0m\u001b[1;33m[\u001b[0m\u001b[0mi\u001b[0m\u001b[1;33m]\u001b[0m\u001b[1;33m)\u001b[0m\u001b[1;33m)\u001b[0m\u001b[1;33m*\u001b[0m\u001b[1;33m(\u001b[0m\u001b[0mn_turns\u001b[0m\u001b[1;33m[\u001b[0m\u001b[0mi\u001b[0m\u001b[1;33m]\u001b[0m\u001b[1;33m)\u001b[0m\u001b[1;33m)\u001b[0m\u001b[1;33m\u001b[0m\u001b[0m\n\u001b[1;32m      5\u001b[0m \u001b[1;33m\u001b[0m\u001b[0m\n",
      "\u001b[0;31mTypeError\u001b[0m: 'numpy.float64' object is not iterable"
     ]
    }
   ],
   "source": [
    "results = []\n",
    "for i in range(len(num_lamin)):\n",
    "    print(\"min(lamin) =\",min(num_lamin[i]),\"; turns = \",n_turns[i])\n",
    "    results.append((min(num_lamin[i]))*(n_turns[i]))\n",
    "\n",
    "test = results.index(min(results))\n",
    "print(\"Optimal result of turns (maybe)=\", n_turns[test], \"with gap length =\") #min(np.abs(l_gap[test])),\"B =\",\n",
    "      #b_values[l_gap[test].tolist().index(min(np.abs(l_gap[test])))])"
   ]
  },
  {
   "cell_type": "markdown",
   "metadata": {},
   "source": [
    "### When I didn't know what I was doing..."
   ]
  },
  {
   "cell_type": "code",
   "execution_count": 131,
   "metadata": {
    "collapsed": false
   },
   "outputs": [
    {
     "data": {
      "text/plain": [
       "100"
      ]
     },
     "execution_count": 131,
     "metadata": {},
     "output_type": "execute_result"
    }
   ],
   "source": [
    "len_of_core = 122.5/1000\n",
    "depth = np.divide(np.linspace(0.5,50,100),1000) #0.5mm ->5cm\n",
    "x_area_core = np.multiply((9.5/1000),depth)\n",
    "#x_area_core = (9.5/1000)*(20/1000) #np.multiply((9.5/1000),depth)\n",
    "len(x_area_core)"
   ]
  },
  {
   "cell_type": "code",
   "execution_count": 132,
   "metadata": {
    "collapsed": false
   },
   "outputs": [],
   "source": [
    "flux = []\n",
    "for x_area in x_area_core:\n",
    "    flux.append(np.multiply(b_values,x_area))\n",
    "# flux = np.multiply(b_values,x_area_core)\n",
    "#len(mmf) = 100\n",
    "#len(flux) = 100\n",
    "# flux = 2D array 100,61\n",
    "len(flux)\n",
    "\n",
    "\n",
    "# The 2D flux array has all the flux values for a different \n",
    "# cross sectional area at each element. Each element of these arrays \n",
    "# is then divided from each mmf to find the total reluctance for \n",
    "# each cross sectional area for all possible values along the b-h curve.\n",
    "# This reslts in a 3D array holding values for every area, every b values\n",
    "# and every mmf.\n",
    "\n",
    "i = 0\n",
    "j = 0\n",
    "total_r = [[] for i in range(len(x_area_core))]\n",
    "for an_area in flux:\n",
    "    #total_r[j].append([])\n",
    "    for a_flux in an_area:\n",
    "        #print(\"i:\",i,\"j\",j)\n",
    "        #print(\"total_r[j]:\",len(total_r[j]),\"total_r:\",len(total_r))\n",
    "        total_r[j].append(np.divide(mmf,a_flux)) #using one flux val for now     flux[j][i]\n",
    "        i+=1\n",
    "    j+=1\n",
    "    i=0"
   ]
  },
  {
   "cell_type": "code",
   "execution_count": 133,
   "metadata": {
    "collapsed": false
   },
   "outputs": [
    {
     "name": "stdout",
     "output_type": "stream",
     "text": [
      "total_r[j]: 61 total_r: 100 el: 100\n"
     ]
    }
   ],
   "source": [
    "print(\"total_r[j]:\",len(total_r[0]),\"total_r:\",len(total_r),\"el:\",len(total_r[0][1]))\n",
    "#print(total_r[0:10][0:3][:])"
   ]
  },
  {
   "cell_type": "code",
   "execution_count": null,
   "metadata": {
    "collapsed": false
   },
   "outputs": [],
   "source": [
    "r_gap =[[] for i in range(len(x_area_core))]\n",
    "\n",
    "i = 0\n",
    "j = 0\n",
    "for an_area in flux:\n",
    "    for a_flux in an_area:\n",
    "        r_gap[j].append(np.subtract(total_r[i][j],(len_of_core)/(mew[i]*x_area_core[j])))\n",
    "        i+=1\n",
    "    j+=1\n",
    "    \n",
    "#l_gap = r_gap*4*np.pi*10e-7*x_area_core\n",
    "# l_gap"
   ]
  }
 ],
 "metadata": {
  "anaconda-cloud": {},
  "kernelspec": {
   "display_name": "Python [conda root]",
   "language": "python",
   "name": "conda-root-py"
  },
  "language_info": {
   "codemirror_mode": {
    "name": "ipython",
    "version": 3
   },
   "file_extension": ".py",
   "mimetype": "text/x-python",
   "name": "python",
   "nbconvert_exporter": "python",
   "pygments_lexer": "ipython3",
   "version": "3.5.2"
  }
 },
 "nbformat": 4,
 "nbformat_minor": 2
}
